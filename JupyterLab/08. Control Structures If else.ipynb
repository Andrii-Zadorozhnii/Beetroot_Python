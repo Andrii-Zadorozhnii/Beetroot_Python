{
 "cells": [
  {
   "cell_type": "code",
   "execution_count": null,
   "metadata": {},
   "outputs": [],
   "source": [
    "В Python конструкция if/elif/else используется для выполнения различных блоков кода в зависимости от выполнения различных условий. Она позволяет проверять несколько\n",
    "условий последовательно, и выполнить блок кода, который соответствует первому истинному условию.\n",
    "\n",
    "Синтаксис:\n",
    "\n",
    "if условие_1:\n",
    "    # выполняется, если условие_1 истинно\n",
    "elif условие_2:\n",
    "    # выполняется, если условие_1 ложно, а условие_2 истинно\n",
    "elif условие_3:\n",
    "    # выполняется, если условие_1 и условие_2 ложны, а условие_3 истинно\n",
    "else:\n",
    "    # выполняется, если все предыдущие условия ложны\n",
    "\n",
    "\t•\tif: проверяет первое условие. Если оно истинно (True), выполняется блок кода, следующий за if.\n",
    "\t•\telif (сокращение от “else if”): проверяет следующее условие, если предыдущие условия ложны. Может быть несколько таких блоков.\n",
    "\t•\telse: выполняется, если все предыдущие условия ложны. Этот блок является необязательным.\n",
    "\n",
    "Пример:\n",
    "\n",
    "x = 10\n",
    "\n",
    "if x > 15:\n",
    "    print(\"x больше 15\")\n",
    "elif x == 10:\n",
    "    print(\"x равно 10\")\n",
    "else:\n",
    "    print(\"x меньше 10\")\n",
    "\n",
    "Результат:\n",
    "\n",
    "x равно 10\n",
    "\n",
    "Пояснение:\n",
    "\n",
    "\t1.\tPython сначала проверяет условие в if. В данном случае x > 15 — ложное.\n",
    "\t2.\tПереходит к следующему условию в elif, где проверяется x == 10. Это условие истинно, и выполняется соответствующий блок кода.\n",
    "\t3.\tПоскольку условие в elif истинно, блок кода внутри else не выполняется.\n",
    "\n",
    "Несколько блоков elif:\n",
    "\n",
    "Можно использовать несколько блоков elif, чтобы проверять несколько условий.\n",
    "\n",
    "Пример:\n",
    "\n",
    "x = 5\n",
    "\n",
    "if x > 10:\n",
    "    print(\"x больше 10\")\n",
    "elif x == 5:\n",
    "    print(\"x равно 5\")\n",
    "elif x == 3:\n",
    "    print(\"x равно 3\")\n",
    "else:\n",
    "    print(\"x меньше 3\")\n",
    "\n",
    "Результат:\n",
    "\n",
    "x равно 5\n",
    "\n",
    "В этом примере цикл проверки идет через все условия: если первое условие ложное, проверяется второе, затем третье, и, если все условия ложные, выполняется else.\n",
    "\n",
    "Примечания:\n",
    "\n",
    "\t•\telif проверяет условия только в том случае, если все предыдущие условия были ложными. Как только одно из условий оказывается истинным, последующие elif и else\n",
    "        игнорируются.\n",
    "\t•\telse не принимает условия. Он выполняется только в случае, если все предыдущие условия были ложными.\n",
    "\t•\tЕсли требуется проверить несколько условий одновременно (например, x больше 5, но меньше 10), можно комбинировать условия с помощью логических операторов \n",
    "        (например, and, or).\n",
    "\n",
    "Пример с логическими операторами:\n",
    "\n",
    "x = 7\n",
    "\n",
    "if x > 5 and x < 10:\n",
    "    print(\"x больше 5, но меньше 10\")\n",
    "elif x == 10:\n",
    "    print(\"x равно 10\")\n",
    "else:\n",
    "    print(\"x меньше или равно 5\")\n",
    "\n",
    "Результат:\n",
    "\n",
    "x больше 5, но меньше 10\n",
    "\n",
    "Итог:\n",
    "\n",
    "Конструкция if/elif/else позволяет выполнять условные проверки и выбирать блок кода для выполнения на основе значений переменных или выражений."
   ]
  },
  {
   "cell_type": "markdown",
   "metadata": {},
   "source": [
    "All code samples before had sequential logic of execution, which means that each line of code was executed one after another. But sometimes we want our program to be more flexible and have a different logic depending on its state or passed inputs. In order to achieve this and control the flow of the program execution, we can use control structure `if/elif/else`"
   ]
  },
  {
   "cell_type": "code",
   "execution_count": null,
   "metadata": {},
   "outputs": [],
   "source": [
    "our_condition = 'yes'"
   ]
  },
  {
   "cell_type": "code",
   "execution_count": null,
   "metadata": {},
   "outputs": [],
   "source": [
    "if our_condition == 'yes':\n",
    "    print('I need to print \"yes\", because if statement evaluated to True')"
   ]
  },
  {
   "cell_type": "code",
   "execution_count": null,
   "metadata": {},
   "outputs": [],
   "source": [
    "our_condition = 'no' # assign new value and try to re-run above example\n",
    "\n",
    "if our_condition == 'yes':\n",
    "    print('I need to print \"yes\", because if statement evaluated to True')"
   ]
  },
  {
   "cell_type": "code",
   "execution_count": null,
   "metadata": {},
   "outputs": [],
   "source": [
    "our_condition == 'no'"
   ]
  },
  {
   "cell_type": "markdown",
   "metadata": {},
   "source": [
    "As you can see, the if statement is evaluated to `False` ( \"no\" doesn't equal \"yes\"), thus our block of code hasn't been executed and nothing happened. But what if we want our program to deal with such cases (if statement evaluated to `False`)"
   ]
  },
  {
   "cell_type": "code",
   "execution_count": null,
   "metadata": {},
   "outputs": [],
   "source": [
    "if our_condition == 'yes':\n",
    "    print('I need to print \"yes\", because if statement evaluated to True')\n",
    "else:\n",
    "    print('If statement evaluated to false')"
   ]
  },
  {
   "cell_type": "markdown",
   "metadata": {},
   "source": [
    "We can group multiple `if` statements in one `if/else` using special `elif`. An `if … elif … elif …` sequence is a substitute for the switch or case statements found in other languages."
   ]
  },
  {
   "cell_type": "code",
   "execution_count": null,
   "metadata": {},
   "outputs": [],
   "source": [
    "our_condition = \"dsfsdfsdfsd\"\n",
    "if our_condition == 'yes':\n",
    "    print(f'I need to print \"{our_condition}\", because if statement evaluated to True')\n",
    "elif our_condition == 'no':\n",
    "    print(f'I need to print \"{our_condition}\", because if statement evaluated to False')\n",
    "else:\n",
    "    print('If statement evaluated to false')"
   ]
  },
  {
   "cell_type": "markdown",
   "metadata": {},
   "source": [
    "We can group as many `elif` statements as we want. Besides that, we should pay attention to the order of `if/elif` statements, because they are evaluated one by one, and if one is evaluated to `True`, the following suite is executed, and all the other statements are not checked."
   ]
  },
  {
   "cell_type": "code",
   "execution_count": null,
   "metadata": {},
   "outputs": [],
   "source": [
    "x = 0\n",
    "if x > 2:\n",
    "    print('x > 2')\n",
    "elif x > 5:\n",
    "    print('x > 5')\n",
    "elif x % 3 == 0:\n",
    "    print('x % 3 == 0')\n",
    "elif x < 7:\n",
    "    print('x < 7')\n",
    "else:\n",
    "    print('All other cases')"
   ]
  },
  {
   "cell_type": "code",
   "execution_count": null,
   "metadata": {},
   "outputs": [],
   "source": [
    "x = 5\n",
    "if x < 2:\n",
    "    print('x < 2')\n",
    "elif x >= 5:\n",
    "    if x == 5:\n",
    "        print('got five')\n",
    "    else:\n",
    "        print('x > 5')\n",
    "elif x % 3 == 0:\n",
    "    print('x % 3 == 0')\n",
    "elif x < 7:\n",
    "    print('x < 7')\n",
    "else:\n",
    "    print('All other cases')"
   ]
  }
 ],
 "metadata": {
  "kernelspec": {
   "display_name": "Python 3 (ipykernel)",
   "language": "python",
   "name": "python3"
  },
  "language_info": {
   "codemirror_mode": {
    "name": "ipython",
    "version": 3
   },
   "file_extension": ".py",
   "mimetype": "text/x-python",
   "name": "python",
   "nbconvert_exporter": "python",
   "pygments_lexer": "ipython3",
   "version": "3.12.7"
  }
 },
 "nbformat": 4,
 "nbformat_minor": 4
}
