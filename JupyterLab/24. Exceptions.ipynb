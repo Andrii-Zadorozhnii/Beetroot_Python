{
 "cells": [
  {
   "metadata": {},
   "cell_type": "markdown",
   "source": "## Errors and Exceptions"
  },
  {
   "metadata": {},
   "cell_type": "markdown",
   "source": "There are (at least) two distinguishable kinds of errors: syntax errors and exceptions"
  },
  {
   "metadata": {},
   "cell_type": "code",
   "outputs": [],
   "execution_count": null,
   "source": "while True print('Hello world')"
  },
  {
   "metadata": {},
   "cell_type": "markdown",
   "source": "Даже если оператор или выражение синтаксически корректны, при попытке их выполнения они могут привести к ошибке. Ошибки, обнаруженные во время выполнения, называются `исключениями` и не являются безусловно фатальными: вскоре вы узнаете, как их обрабатывать в программах на Python. Однако большинство исключений не обрабатываются программами и приводят к появлению сообщений об ошибках, как показано здесь.\n"
  },
  {
   "metadata": {},
   "cell_type": "code",
   "outputs": [],
   "execution_count": null,
   "source": "1 / 0"
  },
  {
   "metadata": {},
   "cell_type": "code",
   "outputs": [],
   "execution_count": null,
   "source": "'2' + 2"
  },
  {
   "metadata": {},
   "cell_type": "code",
   "outputs": [],
   "execution_count": null,
   "source": [
    "x = [1,2,3]\n",
    "x[4]"
   ]
  },
  {
   "metadata": {},
   "cell_type": "markdown",
   "source": "### Handling exceptions"
  },
  {
   "metadata": {},
   "cell_type": "code",
   "outputs": [],
   "execution_count": null,
   "source": [
    "try:\n",
    "    1 / 0\n",
    "except ZeroDivisionError:\n",
    "    print('imposible operation')"
   ]
  },
  {
   "metadata": {},
   "cell_type": "markdown",
   "source": [
    "Оператор `try` работает следующим образом.\n",
    "\n",
    "- Сначала выполняется предложение `try` (оператор(ы) между ключевыми словами `try` и `except`).\n",
    "- Если исключение не возникает, то клаузула except пропускается и выполнение оператора `try` завершается.\n",
    "- Если во время выполнения утверждения `try` возникает исключение, то остальная часть утверждения пропускается. Затем, если его тип совпадает с типом исключения, названного после ключевого слова except, выполняется предложение except, а затем продолжается выполнение после оператора `try`.\n",
    "- Если исключение возникает, но не совпадает с исключением, названным в предложении except, оно передается во внешние операторы `try`; если обработчик не найден, это необработанное исключение, и выполнение останавливается с сообщением, как показано выше.\n"
   ]
  },
  {
   "metadata": {},
   "cell_type": "markdown",
   "source": "An except clause may name multiple exceptions as a parenthesized tuple, for example"
  },
  {
   "metadata": {},
   "cell_type": "code",
   "outputs": [],
   "execution_count": null,
   "source": [
    "try:\n",
    "    pass\n",
    "except (RuntimeError, TypeError, NameError):\n",
    "    pass"
   ]
  },
  {
   "metadata": {},
   "cell_type": "code",
   "outputs": [],
   "execution_count": null,
   "source": [
    "try:\n",
    "    [1,2,3][4]\n",
    "except TypeError:\n",
    "    print(\"oops ham\")\n",
    "except ZeroDivisionError:\n",
    "    print(\"oops spam\")\n",
    "except:\n",
    "    print(\"Unexpected error!\")\n",
    "    raise"
   ]
  },
  {
   "metadata": {},
   "cell_type": "markdown",
   "source": [
    "Оператор `try ... except` имеет необязательное предложение else, которое, если оно присутствует, должно следовать за всеми предложениями except. Он полезен для кода, который должен быть выполнен, если предложение try не вызывает исключения.\n",
    "Например:"
   ]
  },
  {
   "metadata": {},
   "cell_type": "code",
   "outputs": [],
   "execution_count": null,
   "source": [
    "x = [1,2,3,4,0]\n",
    "for i in x:\n",
    "    try:\n",
    "        print(10 / i)\n",
    "    except ZeroDivisionError:\n",
    "        print('wrong operations')\n",
    "    else:\n",
    "        print('good operation')"
   ]
  },
  {
   "metadata": {},
   "cell_type": "code",
   "outputs": [],
   "execution_count": null,
   "source": [
    "try:\n",
    "    1 / 0\n",
    "except ZeroDivisionError:\n",
    "    print(1)\n",
    "except ZeroDivisionError:\n",
    "    print(2)"
   ]
  },
  {
   "metadata": {},
   "cell_type": "markdown",
   "source": "В предложении except после имени исключения может быть указана переменная. Переменная привязывается к экземпляру исключения с аргументами, хранящимися в instance.args."
  },
  {
   "metadata": {},
   "cell_type": "code",
   "outputs": [],
   "execution_count": null,
   "source": [
    "try:\n",
    "    raise Exception('spam', 'eggs')\n",
    "except Exception as inst:\n",
    "    print(type(inst))    # the exception instance\n",
    "    print(inst.args)     # arguments stored in .args\n",
    "    print(inst)          # __str__ allows args to be printed directly,\n",
    "                         # but may be overridden in exception subclasses\n",
    "    x, y = inst.args     # unpack args\n",
    "    print('x =', x)\n",
    "    print('y =', y)"
   ]
  },
  {
   "metadata": {},
   "cell_type": "markdown",
   "source": "## Raise errors"
  },
  {
   "metadata": {},
   "cell_type": "code",
   "outputs": [],
   "execution_count": null,
   "source": "raise NameError('HiThere')"
  },
  {
   "metadata": {},
   "cell_type": "code",
   "outputs": [],
   "execution_count": null,
   "source": [
    "try:\n",
    "    raise NameError\n",
    "except NameError:\n",
    "    print('oops')\n",
    "    raise"
   ]
  },
  {
   "metadata": {},
   "cell_type": "code",
   "outputs": [],
   "execution_count": null,
   "source": [
    "x = 0 # 1\n",
    "\n",
    "try:\n",
    "#     1/x\n",
    "    raise ValueError()\n",
    "except ZeroDivisionError:\n",
    "    print('handle')\n",
    "finally:\n",
    "    print('run anyway')"
   ]
  },
  {
   "metadata": {},
   "cell_type": "markdown",
   "source": [
    "Если присутствует предложение finally, то оно будет выполнено в качестве последней задачи перед завершением оператора try. Предложение finally проверяет, не приводит ли оператор try к возникновению исключения. Ниже описаны некоторые более сложные случаи, когда возникает исключение:\n",
    "\n",
    "- Если исключение возникает во время выполнения оператора `try`, оно может быть обработано предложением `except`. Если исключение не обработано предложением `except`, то оно будет повторно поднято после выполнения предложения `finally`.\n",
    "- Исключение может возникнуть во время выполнения клаузы `except` или `else`. Опять же, исключение будет повторно поднято после выполнения предложения `finally`.\n",
    "- Если оператор `try` достигает оператора `break`, `continue` или `return`, то предложение `finally` будет выполнено непосредственно перед выполнением оператора `break`, `continue` или `return`.\n",
    "- Если предложение `finally` содержит оператор возврата, то оператор возврата в предложении `finally` будет выполнен до и вместо оператора возврата в предложении try."
   ]
  },
  {
   "metadata": {},
   "cell_type": "code",
   "outputs": [],
   "execution_count": null,
   "source": [
    "def test():\n",
    "    try:\n",
    "        1/0\n",
    "    except ZeroDivisionError:\n",
    "        return 1\n",
    "    finally:\n",
    "        return 0"
   ]
  },
  {
   "metadata": {},
   "cell_type": "code",
   "outputs": [],
   "execution_count": null,
   "source": "test()"
  }
 ],
 "metadata": {
  "kernelspec": {
   "display_name": "Python 3",
   "language": "python",
   "name": "python3"
  },
  "language_info": {
   "codemirror_mode": {
    "name": "ipython",
    "version": 3
   },
   "file_extension": ".py",
   "mimetype": "text/x-python",
   "name": "python",
   "nbconvert_exporter": "python",
   "pygments_lexer": "ipython3",
   "version": "3.7.4"
  }
 },
 "nbformat": 4,
 "nbformat_minor": 2
}
