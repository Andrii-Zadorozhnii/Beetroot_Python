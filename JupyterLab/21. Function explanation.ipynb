{
 "cells": [
  {
   "metadata": {},
   "cell_type": "markdown",
   "source": [
    "Функции в Python: Обзор\n",
    "\n",
    "Функции — это блоки кода, предназначенные для многократного использования. Они помогают организовать код, сделать его более читаемым и позволяют избежать повторения."
   ],
   "id": "5df7fc441bcff463"
  },
  {
   "metadata": {},
   "cell_type": "markdown",
   "source": [
    "1. Определение функции\n",
    "\n",
    "Функция определяется с помощью ключевого слова def. Например:"
   ],
   "id": "631f930e2ba67805"
  },
  {
   "metadata": {
    "collapsed": true
   },
   "cell_type": "code",
   "outputs": [],
   "source": [
    "def greet():\n",
    "    print(\"Hello, World!\")"
   ],
   "id": "56c6bdebd60fe391",
   "execution_count": null
  },
  {
   "metadata": {},
   "cell_type": "markdown",
   "source": "Вызов функции:",
   "id": "b0ca6348a355d18e"
  },
  {
   "metadata": {},
   "cell_type": "code",
   "outputs": [],
   "execution_count": null,
   "source": "greet()  # Output: Hello, World!",
   "id": "57090e52d28e2f5c"
  },
  {
   "metadata": {},
   "cell_type": "markdown",
   "source": [
    "2. Аргументы функции\n",
    "\n",
    "Функции могут принимать параметры для обработки данных:"
   ],
   "id": "20958db9ac62a5fe"
  },
  {
   "metadata": {},
   "cell_type": "code",
   "outputs": [],
   "execution_count": null,
   "source": [
    "def greet(name):\n",
    "    print(f\"Hello, {name}!\")\n",
    "    \n",
    "greet(\"Andrii\")  # Output: Hello, Andrii!"
   ],
   "id": "ac7a65f0d35e2d56"
  },
  {
   "metadata": {},
   "cell_type": "markdown",
   "source": "Можно задавать значения по умолчанию:",
   "id": "be93f8ef96b29767"
  },
  {
   "metadata": {},
   "cell_type": "code",
   "outputs": [],
   "execution_count": null,
   "source": [
    "def greet(name=\"Guest\"):\n",
    "    print(f\"Hello, {name}!\")\n",
    "    \n",
    "greet()  # Output: Hello, Guest!"
   ],
   "id": "5c47bc937afa56e4"
  },
  {
   "metadata": {},
   "cell_type": "markdown",
   "source": [
    "3. Возвращение результата\n",
    "\n",
    "Функции могут возвращать значение с помощью return:"
   ],
   "id": "ae03f4ccf4550d81"
  },
  {
   "metadata": {},
   "cell_type": "code",
   "outputs": [],
   "execution_count": null,
   "source": [
    "def add(a, b):\n",
    "    return a + b\n",
    "\n",
    "result = add(5, 3)\n",
    "print(result)  # Output: 8"
   ],
   "id": "8da19cf5483d512"
  },
  {
   "metadata": {},
   "cell_type": "markdown",
   "source": [
    "4. Многоуровневые функции (распаковка аргументов)\n",
    "\t•\t*args — принимает произвольное количество позиционных аргументов.\n",
    "\t•\t**kwargs — принимает произвольное количество именованных аргументов."
   ],
   "id": "c4ea8c2ec796035d"
  },
  {
   "metadata": {},
   "cell_type": "code",
   "outputs": [],
   "execution_count": null,
   "source": [
    "def show_info(*args, **kwargs):\n",
    "    print(\"Positional arguments:\", args)\n",
    "    print(\"Keyword arguments:\", kwargs)\n",
    "\n",
    "show_info(1, 2, 3, name=\"Andrii\", age=30)"
   ],
   "id": "d77fb7db5d02276f"
  },
  {
   "metadata": {},
   "cell_type": "markdown",
   "source": [
    "5. Лямбда-функции\n",
    "\n",
    "Анонимные функции, определяемые с помощью lambda. Используются для простых операций."
   ],
   "id": "272af87c0d99ec43"
  },
  {
   "metadata": {},
   "cell_type": "code",
   "outputs": [],
   "execution_count": null,
   "source": [
    "square = lambda x: x ** 2\n",
    "print(square(4))  # Output: 16"
   ],
   "id": "7276108931b15a12"
  },
  {
   "metadata": {},
   "cell_type": "markdown",
   "source": [
    "6. Вложенные функции\n",
    "\n",
    "Функции могут быть вложенными друг в друга."
   ],
   "id": "8059f0c6d2bd01df"
  },
  {
   "metadata": {},
   "cell_type": "code",
   "outputs": [],
   "execution_count": null,
   "source": [
    "def outer_function(text):\n",
    "    def inner_function():\n",
    "        print(text)\n",
    "    inner_function()\n",
    "\n",
    "outer_function(\"Hello from the inner function!\")"
   ],
   "id": "c57fae068aca8ab5"
  },
  {
   "metadata": {},
   "cell_type": "markdown",
   "source": [
    "7. Замыкания\n",
    "\n",
    "Если вложенная функция использует переменные из окружающей области, это называется замыканием."
   ],
   "id": "db0540bc32c09cbc"
  },
  {
   "metadata": {},
   "cell_type": "code",
   "outputs": [],
   "execution_count": null,
   "source": [
    "def make_multiplier(n):\n",
    "    def multiplier(x):\n",
    "        return x * n\n",
    "    return multiplier\n",
    "\n",
    "double = make_multiplier(2)\n",
    "print(double(5))  # Output: 10"
   ],
   "id": "cb830237db97672d"
  },
  {
   "metadata": {},
   "cell_type": "markdown",
   "source": [
    "8. Декораторы\n",
    "\n",
    "Декораторы добавляют функционал к существующей функции."
   ],
   "id": "51faa013e9c1013"
  },
  {
   "metadata": {},
   "cell_type": "code",
   "outputs": [],
   "execution_count": null,
   "source": [
    "def decorator(func):\n",
    "    def wrapper():\n",
    "        print(\"Before the function call\")\n",
    "        func()\n",
    "        print(\"After the function call\")\n",
    "    return wrapper\n",
    "\n",
    "@decorator\n",
    "def say_hello():\n",
    "    print(\"Hello!\")\n",
    "\n",
    "say_hello()"
   ],
   "id": "6314b57c3d28850c"
  },
  {
   "metadata": {},
   "cell_type": "markdown",
   "source": [
    "9. Рекурсия\n",
    "\n",
    "Функции могут вызывать сами себя."
   ],
   "id": "dc9f42840b52a16e"
  },
  {
   "metadata": {},
   "cell_type": "code",
   "outputs": [],
   "execution_count": null,
   "source": [
    "def factorial(n):\n",
    "    if n == 1:\n",
    "        return 1\n",
    "    return n * factorial(n - 1)\n",
    "\n",
    "print(factorial(5))  # Output: 120"
   ],
   "id": "a2010a25387e070e"
  },
  {
   "metadata": {},
   "cell_type": "markdown",
   "source": [
    "10. Генераторы\n",
    "\n",
    "Функции могут использовать yield для генерации значений."
   ],
   "id": "fef847263a5bf6a5"
  },
  {
   "metadata": {},
   "cell_type": "code",
   "outputs": [],
   "execution_count": null,
   "source": [
    "def fibonacci(n):\n",
    "    a, b = 0, 1\n",
    "    for _ in range(n):\n",
    "        yield a\n",
    "        a, b = b, a + b\n",
    "\n",
    "for num in fibonacci(5):\n",
    "    print(num)"
   ],
   "id": "edb4896270ef1b4d"
  }
 ],
 "metadata": {
  "kernelspec": {
   "display_name": "Python 3",
   "language": "python",
   "name": "python3"
  },
  "language_info": {
   "codemirror_mode": {
    "name": "ipython",
    "version": 2
   },
   "file_extension": ".py",
   "mimetype": "text/x-python",
   "name": "python",
   "nbconvert_exporter": "python",
   "pygments_lexer": "ipython2",
   "version": "2.7.6"
  }
 },
 "nbformat": 4,
 "nbformat_minor": 5
}
