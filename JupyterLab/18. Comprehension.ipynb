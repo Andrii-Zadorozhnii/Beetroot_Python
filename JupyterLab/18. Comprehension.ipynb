{
 "cells": [
  {
   "metadata": {},
   "cell_type": "markdown",
   "source": [
    "Список с использованием генераторов (comprehensions) — это способ создания новых списков с использованием компактной записи. Это позволяет писать код более эффективно и читаемо.\n",
    "\n",
    "Пример на Python:"
   ],
   "id": "137486475293d4cb"
  },
  {
   "metadata": {},
   "cell_type": "code",
   "outputs": [],
   "execution_count": null,
   "source": [
    "# Генератор списка\n",
    "squares = [x**2 for x in range(10)]\n",
    "print(squares)"
   ],
   "id": "14fb21703e573e44"
  },
  {
   "metadata": {},
   "cell_type": "markdown",
   "source": "Этот код создает список квадратов чисел от 0 до 9. В стандартной записи это выглядело бы так:",
   "id": "fc0d636cc1ee39e8"
  },
  {
   "metadata": {},
   "cell_type": "code",
   "outputs": [],
   "execution_count": null,
   "source": [
    "squares = []\n",
    "for x in range(10):\n",
    "    squares.append(x**2)"
   ],
   "id": "2020b4d5c8085da2"
  },
  {
   "metadata": {},
   "cell_type": "markdown",
   "source": "Основная структура генераторов списков:",
   "id": "c59f854478a62d13"
  },
  {
   "metadata": {},
   "cell_type": "markdown",
   "source": "[выражение for элемент in итерируемый_объект if условие]",
   "id": "6840b53d76fc51e7"
  },
  {
   "metadata": {},
   "cell_type": "markdown",
   "source": [
    "•\tвыражение — это то, что будет добавлено в новый список.\n",
    "\n",
    "•\tэлемент — переменная, которая поочередно принимает значения из итерируемого объекта (например, списка).\n",
    "\n",
    "•\tусловие (необязательно) — проверка, которая применяется к каждому элементу.\n",
    "\n",
    "Пример с условием:"
   ],
   "id": "c501ab16b2d798e3"
  },
  {
   "metadata": {},
   "cell_type": "code",
   "outputs": [],
   "execution_count": null,
   "source": [
    "even_squares = [x**2 for x in range(10) if x % 2 == 0]\n",
    "print(even_squares)"
   ],
   "id": "9f251a8081d367f5"
  },
  {
   "metadata": {},
   "cell_type": "markdown",
   "source": [
    "В этом случае в список попадут только квадраты четных чисел.\n",
    "\n",
    "Таким образом, comprehension позволяет писать код компактнее, избегая необходимости использования циклов и команд append."
   ],
   "id": "f1d9c2eab7d5d972"
  }
 ],
 "metadata": {
  "kernelspec": {
   "display_name": "Python 3",
   "language": "python",
   "name": "python3"
  },
  "language_info": {
   "codemirror_mode": {
    "name": "ipython",
    "version": 2
   },
   "file_extension": ".py",
   "mimetype": "text/x-python",
   "name": "python",
   "nbconvert_exporter": "python",
   "pygments_lexer": "ipython2",
   "version": "2.7.6"
  }
 },
 "nbformat": 4,
 "nbformat_minor": 5
}
