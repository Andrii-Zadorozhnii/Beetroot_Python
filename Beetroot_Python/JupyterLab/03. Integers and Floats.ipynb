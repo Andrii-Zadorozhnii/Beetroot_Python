{
 "cells": [
  {
   "cell_type": "markdown",
   "metadata": {},
   "source": [
    "# Built-in data types: Integers and Floats\n"
   ]
  },
  {
   "cell_type": "code",
   "execution_count": null,
   "metadata": {},
   "outputs": [],
   "source": [
    "В Python тип данных int (целое число) имеет несколько методов, хотя их количество не так велико, как у строк. Вот список основных методов и операций, доступных для целых чисел:\n",
    "\t1.\tint.bit_length() – возвращает количество бит, необходимых для представления числа в двоичной системе счисления, исключая знак и ведущие нули.\n",
    "\t2.\tint.conjugate() – возвращает комплексное сопряжение числа (для целых чисел это просто само число, но используется в контексте работы с комплексными числами).\n",
    "\t3.\tint.denominator() – метод для рациональных чисел (встроенная поддержка для работы с типом fractions.Fraction), возвращает знаменатель.\n",
    "\t4.\tint.from_bytes(bytes, byteorder, *, signed=False) – создает целое число из байтов, представленных в виде последовательности байтов. Аргумент byteorder определяет порядок байтов (можно использовать ‘little’ или ‘big’), а signed указывает на знак числа.\n",
    "\t5.\tint.to_bytes(length, byteorder, *, signed=False) – преобразует целое число в последовательность байтов. length указывает длину байтового представления, а byteorder аналогичен методу from_bytes.\n",
    "\t6.\tint.__abs__() (или встроенная функция abs()) – возвращает абсолютное значение числа.\n",
    "\t7.\tint.__add__(other) (или оператор +) – выполняет сложение текущего числа с другим числом other.\n",
    "\t8.\tint.__and__(other) (или оператор &) – выполняет побитовое И с другим числом other.\n",
    "\t9.\tint.__floordiv__(other) (или оператор //) – выполняет целочисленное деление на other.\n",
    "\t10.\tint.__lshift__(other) (или оператор <<) – выполняет побитовый сдвиг влево.\n",
    "\t11.\tint.__mod__(other) (или оператор %) – выполняет взятие остатка от деления на other.\n",
    "\t12.\tint.__mul__(other) (или оператор *) – выполняет умножение на other.\n",
    "\t13.\tint.__or__(other) (или оператор |) – выполняет побитовое ИЛИ с other.\n",
    "\t14.\tint.__pow__(other, modulo=None) (или оператор **) – выполняет возведение в степень с модулем.\n",
    "\t15.\tint.__radd__(other) (или оператор + при правом операнде) – используется для выполнения операции сложения, если левый операнд не поддерживает операцию с правым.\n",
    "\t16.\tint.__rand__(other) (или оператор &) – выполняет побитовое И с правым операндом.\n",
    "\t17.\tint.__rdivmod__(other) – выполняет операцию divmod() (возвращает пару (quotient, remainder)) для числа справа.\n",
    "\t18.\tint.__repr__() – возвращает строковое представление числа.\n",
    "\t19.\tint.__rshift__(other) (или оператор >>) – выполняет побитовый сдвиг вправо.\n",
    "\t20.\tint.__sub__(other) (или оператор -) – выполняет вычитание other из текущего числа.\n",
    "\t21.\tint.__xor__(other) (или оператор ^) – выполняет побитовое исключающее ИЛИ с other.\n",
    "\n",
    "Большинство операций с целыми числами в Python реализуются через операторы, например, арифметические операции (+, -, *, //, %, **, &, |, ^ и другие). Однако существует несколько встроенных методов для более сложных операций, таких как работа с байтами и представление числа в разных системах счисления."
   ]
  },
  {
   "cell_type": "code",
   "execution_count": null,
   "metadata": {},
   "outputs": [],
   "source": [
    "В Python тип данных float (число с плавающей запятой) также имеет несколько методов, которые полезны для работы с числами с дробной частью. Вот основные методы и операции, доступные для объектов типа float:\n",
    "\t1.\tfloat.as_integer_ratio() – возвращает числитель и знаменатель числа как кортеж целых чисел, представляющих это число в виде дроби (например, для 0.5 результатом будет (1, 2)).\n",
    "\t2.\tfloat.conjugate() – возвращает комплексное сопряжение числа. Для типа float это просто само число, но метод используется в контексте комплексных чисел.\n",
    "\t3.\tfloat.fromhex(s) – преобразует строковое представление числа в шестнадцатеричной системе счисления в число с плавающей запятой (например, строка '0x1.0p3' будет преобразована в число 8.0).\n",
    "\t4.\tfloat.hex() – возвращает строковое представление числа в шестнадцатеричной форме (например, для числа 8.0 это будет строка '0x1.0p3').\n",
    "\t5.\tfloat.is_integer() – проверяет, является ли число целым (т.е. его дробная часть равна нулю).\n",
    "\t6.\tfloat.__abs__() (или встроенная функция abs()) – возвращает абсолютное значение числа.\n",
    "\t7.\tfloat.__add__(other) (или оператор +) – выполняет сложение текущего числа с другим числом other.\n",
    "\t8.\tfloat.__floordiv__(other) (или оператор //) – выполняет целочисленное деление на other.\n",
    "\t9.\tfloat.__mod__(other) (или оператор %) – выполняет взятие остатка от деления на other.\n",
    "\t10.\tfloat.__mul__(other) (или оператор *) – выполняет умножение на other.\n",
    "\t11.\tfloat.__pow__(other, modulo=None) (или оператор **) – выполняет возведение в степень с модулем.\n",
    "\t12.\tfloat.__sub__(other) (или оператор -) – выполняет вычитание other из текущего числа.\n",
    "\t13.\tfloat.__truediv__(other) (или оператор /) – выполняет деление с плавающей запятой на other.\n",
    "\t14.\tfloat.__radd__(other) (или оператор + при правом операнде) – используется для выполнения операции сложения, если левый операнд не поддерживает операцию с правым.\n",
    "\t15.\tfloat.__rsub__(other) (или оператор - при правом операнде) – используется для выполнения операции вычитания, если левый операнд не поддерживает операцию с правым.\n",
    "\t16.\tfloat.__repr__() – возвращает строковое представление числа.\n",
    "\t17.\tfloat.isfinite() – проверяет, является ли число конечным (не NaN и не бесконечность).\n",
    "\t18.\tfloat.isinf() – проверяет, является ли число бесконечностью (inf или -inf).\n",
    "\t19.\tfloat.isnan() – проверяет, является ли число NaN (нечисловым значением).\n",
    "\t20.\tfloat.__str__() – возвращает строковое представление числа, используемое для вывода.\n",
    "\t21.\tfloat.real – возвращает вещественную часть числа. Это атрибут, который в случае с типом float всегда равен самому числу.\n",
    "\t22.\tfloat.imag – возвращает мнимую часть числа. Для обычного числа с плавающей запятой всегда равен 0.\n",
    "\n",
    "Как и для целых чисел, для чисел с плавающей запятой большинство операций выполняется через операторы, например, арифметические операции (+, -, *, /, //, %, **). Однако также есть специализированные методы для работы с числами в других форматах (например, шестнадцатеричное представление или проверка на конечность)."
   ]
  },
  {
   "cell_type": "markdown",
   "metadata": {},
   "source": [
    "Python has two main built-in numeric types - <b>int</b> and <b>float</b>, which represent integers and floats respectively."
   ]
  },
  {
   "cell_type": "code",
   "execution_count": null,
   "metadata": {},
   "outputs": [],
   "source": [
    "print(0)\n",
    "print(1)\n",
    "print(-1)\n",
    "print(2.0)\n",
    "print(-3.14)"
   ]
  },
  {
   "cell_type": "markdown",
   "metadata": {},
   "source": [
    "We can get the type of a python object by passing it to special built-in function `type`."
   ]
  },
  {
   "cell_type": "code",
   "execution_count": null,
   "metadata": {
    "scrolled": true
   },
   "outputs": [],
   "source": [
    "print(1, type(1))\n",
    "print(2.0, type(1.0))"
   ]
  },
  {
   "cell_type": "markdown",
   "metadata": {},
   "source": [
    "We can use standard arithmetic operations <b>+</b>, <b>-</b>, <b>*</b>, <b>/</b>, <b>**</b> (exponentiation) and modulo <b>%</b> with integer division <b>//</b>"
   ]
  },
  {
   "cell_type": "code",
   "execution_count": null,
   "metadata": {},
   "outputs": [],
   "source": [
    "print(1 + 1)\n",
    "print(5 - 2)\n",
    "print(2 * 2)\n",
    "print(12 / 4)"
   ]
  },
  {
   "cell_type": "code",
   "execution_count": null,
   "metadata": {},
   "outputs": [],
   "source": [
    "type(12/4)"
   ]
  },
  {
   "cell_type": "code",
   "execution_count": null,
   "metadata": {},
   "outputs": [],
   "source": [
    "print(13 / 5)\n",
    "print(type(12 / 4))"
   ]
  },
  {
   "cell_type": "code",
   "execution_count": null,
   "metadata": {},
   "outputs": [],
   "source": [
    "print(13 // 5)\n",
    "print(type(13 // 4))"
   ]
  },
  {
   "cell_type": "code",
   "execution_count": null,
   "metadata": {},
   "outputs": [],
   "source": [
    "print(2 ** 3)"
   ]
  },
  {
   "cell_type": "code",
   "execution_count": null,
   "metadata": {},
   "outputs": [],
   "source": [
    "print(5 % 2)\n",
    "print(10 % 4)"
   ]
  },
  {
   "cell_type": "markdown",
   "metadata": {},
   "source": [
    "We can also change numbers from negative to positive and vice versa, using `-` for negation. As for `+` it leaves the number unchanged"
   ]
  },
  {
   "cell_type": "code",
   "execution_count": null,
   "metadata": {},
   "outputs": [],
   "source": [
    "print(--1)\n",
    "print(-2.0)\n",
    "print(+-1)"
   ]
  },
  {
   "cell_type": "code",
   "execution_count": null,
   "metadata": {},
   "outputs": [],
   "source": [
    "x = -1"
   ]
  },
  {
   "cell_type": "code",
   "execution_count": null,
   "metadata": {},
   "outputs": [],
   "source": [
    "+x"
   ]
  },
  {
   "cell_type": "code",
   "execution_count": null,
   "metadata": {},
   "outputs": [],
   "source": [
    "-x"
   ]
  },
  {
   "cell_type": "markdown",
   "metadata": {},
   "source": [
    "To get the absolute value of a number we can use built-in function `abs`."
   ]
  },
  {
   "cell_type": "code",
   "execution_count": null,
   "metadata": {},
   "outputs": [],
   "source": [
    "print(abs(-1.5))"
   ]
  },
  {
   "cell_type": "markdown",
   "metadata": {},
   "source": [
    "To transform an integer to a float and in reverse order, we can use built-in functions `int`, `float`.\n"
   ]
  },
  {
   "cell_type": "code",
   "execution_count": null,
   "metadata": {},
   "outputs": [],
   "source": [
    "print(int(1.3))\n",
    "print(float(5))"
   ]
  },
  {
   "cell_type": "code",
   "execution_count": null,
   "metadata": {},
   "outputs": [],
   "source": [
    "type(float('5.0'))"
   ]
  },
  {
   "cell_type": "code",
   "execution_count": null,
   "metadata": {},
   "outputs": [],
   "source": [
    "float('5.dff')"
   ]
  },
  {
   "cell_type": "code",
   "execution_count": null,
   "metadata": {},
   "outputs": [],
   "source": [
    "round(1.5)"
   ]
  },
  {
   "cell_type": "code",
   "execution_count": null,
   "metadata": {},
   "outputs": [],
   "source": [
    "round(3.144444444, 1)"
   ]
  },
  {
   "cell_type": "markdown",
   "metadata": {},
   "source": [
    "As in math, we have arithmetic order in python. Here is an example by precedence (From lowest to highest): `+`, `-`, `*`, `/`, `//`, `%`, `-` (negation), `+` (unchanged), `abs`, `int`, `float`, `**`."
   ]
  },
  {
   "cell_type": "code",
   "execution_count": null,
   "metadata": {},
   "outputs": [],
   "source": [
    "print(1 + 2 * 4)\n",
    "print(3 // 2 / 2)\n",
    "print(2 * 3 ** 2)"
   ]
  },
  {
   "cell_type": "markdown",
   "metadata": {},
   "source": [
    "In case you have a very long statement, you can use brackets to be sure in the right order."
   ]
  },
  {
   "cell_type": "code",
   "execution_count": null,
   "metadata": {},
   "outputs": [],
   "source": [
    "print((1 + 2) * 4)\n",
    "print(3 // (2 / 2))\n",
    "print((2 * 3) ** 2)"
   ]
  }
 ],
 "metadata": {
  "kernelspec": {
   "display_name": "Python 3 (ipykernel)",
   "language": "python",
   "name": "python3"
  },
  "language_info": {
   "codemirror_mode": {
    "name": "ipython",
    "version": 3
   },
   "file_extension": ".py",
   "mimetype": "text/x-python",
   "name": "python",
   "nbconvert_exporter": "python",
   "pygments_lexer": "ipython3",
   "version": "3.12.7"
  }
 },
 "nbformat": 4,
 "nbformat_minor": 4
}
