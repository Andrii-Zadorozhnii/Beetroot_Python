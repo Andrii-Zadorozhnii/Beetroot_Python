{
 "cells": [
  {
   "cell_type": "markdown",
   "metadata": {},
   "source": [
    "# Comparisons"
   ]
  },
  {
   "cell_type": "code",
   "execution_count": 1,
   "metadata": {},
   "outputs": [
    {
     "ename": "SyntaxError",
     "evalue": "invalid character '—' (U+2014) (1136517819.py, line 5)",
     "output_type": "error",
     "traceback": [
      "\u001b[0;36m  Cell \u001b[0;32mIn[1], line 5\u001b[0;36m\u001b[0m\n\u001b[0;31m    1.\t== — Равно:\u001b[0m\n\u001b[0m      \t   ^\u001b[0m\n\u001b[0;31mSyntaxError\u001b[0m\u001b[0;31m:\u001b[0m invalid character '—' (U+2014)\n"
     ]
    }
   ],
   "source": [
    "В Python операторы сравнения используются для сравнения значений. Эти операторы возвращают булево значение (True или False) в зависимости от того, выполняется ли условие сравнения.\n",
    "\n",
    "Операторы сравнения в Python:\n",
    "\n",
    "\t1.\t== — Равно:\n",
    "Сравнивает два значения на равенство. Возвращает True, если значения равны.\n",
    "Пример:\n",
    "\n",
    "5 == 5  # True\n",
    "5 == 6  # False\n",
    "\n",
    "\n",
    "\t2.\t!= — Не равно:\n",
    "Сравнивает два значения на неравенство. Возвращает True, если значения не равны.\n",
    "Пример:\n",
    "\n",
    "5 != 6  # True\n",
    "5 != 5  # False\n",
    "\n",
    "\n",
    "\t3.\t> — Больше:\n",
    "Сравнивает, является ли левый операнд больше правого. Возвращает True, если левый операнд больше.\n",
    "Пример:\n",
    "\n",
    "5 > 3  # True\n",
    "5 > 8  # False\n",
    "\n",
    "\n",
    "\t4.\t< — Меньше:\n",
    "Сравнивает, является ли левый операнд меньше правого. Возвращает True, если левый операнд меньше.\n",
    "Пример:\n",
    "\n",
    "3 < 5  # True\n",
    "8 < 5  # False\n",
    "\n",
    "\n",
    "\t5.\t>= — Больше или равно:\n",
    "Сравнивает, является ли левый операнд больше или равен правому. Возвращает True, если левый операнд больше или равен правому.\n",
    "Пример:\n",
    "\n",
    "5 >= 5  # True\n",
    "6 >= 5  # True\n",
    "3 >= 5  # False\n",
    "\n",
    "\n",
    "\t6.\t<= — Меньше или равно:\n",
    "Сравнивает, является ли левый операнд меньше или равен правому. Возвращает True, если левый операнд меньше или равен правому.\n",
    "Пример:\n",
    "\n",
    "5 <= 5  # True\n",
    "4 <= 5  # True\n",
    "6 <= 5  # False\n",
    "\n",
    "\n",
    "\t7.\tis — Идентичность:\n",
    "Проверяет, указывают ли две переменные на один и тот же объект в памяти. Оператор is используется для проверки идентичности, а не равенства значений.\n",
    "Пример:\n",
    "\n",
    "a = [1, 2, 3]\n",
    "b = [1, 2, 3]\n",
    "a is b  # False, так как a и b - разные объекты в памяти\n",
    "a = b\n",
    "a is b  # True, так как теперь a и b указывают на один и тот же объект\n",
    "\n",
    "\n",
    "\t8.\tis not — Не идентично:\n",
    "Проверяет, не указывают ли две переменные на один и тот же объект в памяти.\n",
    "Пример:\n",
    "\n",
    "a = [1, 2, 3]\n",
    "b = [1, 2, 3]\n",
    "a is not b  # True, так как a и b - разные объекты в памяти\n",
    "\n",
    "\n",
    "\n",
    "Примечания:\n",
    "\n",
    "\t•\tОператоры сравнения возвращают True или False, и их часто используют в условных конструкциях, таких как if, while и других.\n",
    "\t•\tВ Python операторы == и != сравнивают значения, тогда как операторы is и is not проверяют, указывают ли объекты на один и тот же объект в памяти.\n",
    "\n",
    "Пример использования операторов сравнения в условном выражении:\n",
    "\n",
    "x = 10\n",
    "if x > 5:\n",
    "    print(\"x больше 5\")\n",
    "else:\n",
    "    print(\"x меньше или равно 5\")\n",
    "\n",
    "Итог:\n",
    "\n",
    "Операторы сравнения являются основными инструментами для принятия решений в коде, позволяя проверять отношения между значениями, например, равенство, большее или меньшее значение, или проверку ссылок на объекты."
   ]
  },
  {
   "cell_type": "markdown",
   "metadata": {},
   "source": [
    "There are eight comparison operations in Python. "
   ]
  },
  {
   "cell_type": "code",
   "execution_count": 2,
   "metadata": {},
   "outputs": [
    {
     "name": "stdout",
     "output_type": "stream",
     "text": [
      "True\n",
      "True\n",
      "False\n",
      "False\n",
      "True\n",
      "True\n",
      "False\n",
      "True\n"
     ]
    },
    {
     "name": "stderr",
     "output_type": "stream",
     "text": [
      "<>:8: SyntaxWarning: \"is not\" with 'int' literal. Did you mean \"!=\"?\n",
      "<>:8: SyntaxWarning: \"is not\" with 'int' literal. Did you mean \"!=\"?\n",
      "/var/folders/qg/g513y40n5dz8bb973xk1v_rw0000gn/T/ipykernel_3534/906264248.py:8: SyntaxWarning: \"is not\" with 'int' literal. Did you mean \"!=\"?\n",
      "  print(True is not 1)\n"
     ]
    }
   ],
   "source": [
    "print(1 < 2)\n",
    "print(2 <= 2)\n",
    "print(3 > 4)\n",
    "print(5 >= 9)\n",
    "print(2 == 2)\n",
    "print(4 != 2)\n",
    "print(True is False)\n",
    "print(True is not 1)"
   ]
  },
  {
   "cell_type": "markdown",
   "metadata": {},
   "source": [
    "They all have the same priority but higher than priority of Boolean operations."
   ]
  },
  {
   "cell_type": "code",
   "execution_count": 2,
   "metadata": {},
   "outputs": [
    {
     "name": "stdout",
     "output_type": "stream",
     "text": [
      "True\n",
      "True\n"
     ]
    }
   ],
   "source": [
    "print(1 < 2 and True)\n",
    "print(False or 4 == 4)"
   ]
  },
  {
   "cell_type": "code",
   "execution_count": 3,
   "metadata": {},
   "outputs": [],
   "source": [
    "a = 1"
   ]
  },
  {
   "cell_type": "code",
   "execution_count": 6,
   "metadata": {},
   "outputs": [
    {
     "data": {
      "text/plain": [
       "True"
      ]
     },
     "execution_count": 6,
     "metadata": {},
     "output_type": "execute_result"
    }
   ],
   "source": [
    "a != 2"
   ]
  },
  {
   "cell_type": "markdown",
   "metadata": {},
   "source": [
    "Comparisons can be chained arbitrarily and evaluated from left to right."
   ]
  },
  {
   "cell_type": "code",
   "execution_count": 7,
   "metadata": {},
   "outputs": [
    {
     "name": "stdout",
     "output_type": "stream",
     "text": [
      "True\n",
      "False\n"
     ]
    }
   ],
   "source": [
    "print(1 < 2 < 4 < 10)\n",
    "print(2 > 5 < 2)"
   ]
  },
  {
   "cell_type": "markdown",
   "metadata": {},
   "source": [
    "It should be mentioned that in example x < y <= z, <b>z</b> is not evaluated at all when x < y is False"
   ]
  },
  {
   "cell_type": "code",
   "execution_count": 8,
   "metadata": {},
   "outputs": [
    {
     "name": "stdout",
     "output_type": "stream",
     "text": [
      "False\n"
     ]
    }
   ],
   "source": [
    "print(2 > 5 > 100 ** 100)"
   ]
  }
 ],
 "metadata": {
  "kernelspec": {
   "display_name": "Python 3 (ipykernel)",
   "language": "python",
   "name": "python3"
  },
  "language_info": {
   "codemirror_mode": {
    "name": "ipython",
    "version": 3
   },
   "file_extension": ".py",
   "mimetype": "text/x-python",
   "name": "python",
   "nbconvert_exporter": "python",
   "pygments_lexer": "ipython3",
   "version": "3.12.7"
  }
 },
 "nbformat": 4,
 "nbformat_minor": 4
}
