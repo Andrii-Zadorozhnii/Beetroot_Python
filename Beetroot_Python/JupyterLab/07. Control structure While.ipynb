{
 "cells": [
  {
   "cell_type": "code",
   "execution_count": null,
   "metadata": {},
   "outputs": [],
   "source": [
    "WHILE"
   ]
  },
  {
   "cell_type": "markdown",
   "metadata": {},
   "source": [
    "Let's explore the concept of iterations and python while control structure."
   ]
  },
  {
   "cell_type": "code",
   "execution_count": null,
   "metadata": {},
   "outputs": [],
   "source": [
    "В Python цикл while используется для многократного выполнения блока кода, пока выполняется условие. Цикл while продолжает выполняться, пока условие остается истинным (True). Когда условие становится ложным (False), выполнение цикла прекращается.\n",
    "\n",
    "Синтаксис:\n",
    "\n",
    "while условие:\n",
    "    # блок кода, который будет выполняться, пока условие истинно\n",
    "\n",
    "\t•\tусловие — это выражение, которое будет проверяться перед каждой итерацией цикла. Если условие истинно (то есть возвращает True), блок кода внутри цикла выполняется.\n",
    "\t•\tБлок кода, который выполняется в цикле, должен быть сдвинут вправо (с использованием отступов).\n",
    "\n",
    "Пример использования:\n",
    "\n",
    "\t1.\tПростой цикл while:\n",
    "\n",
    "i = 0\n",
    "while i < 5:\n",
    "    print(i)\n",
    "    i += 1\n",
    "\n",
    "Результат:\n",
    "\n",
    "0\n",
    "1\n",
    "2\n",
    "3\n",
    "4\n",
    "\n",
    "В этом примере цикл будет выполняться, пока переменная i меньше 5. После каждой итерации переменная i увеличивается на 1, и как только i становится равным 5, условие i < 5 становится ложным, и цикл завершает выполнение.\n",
    "\n",
    "\t2.\tБесконечный цикл:\n",
    "Если условие в цикле всегда истинно, цикл будет выполняться бесконечно. Это называется бесконечным циклом.\n",
    "Пример:\n",
    "\n",
    "while True:\n",
    "    print(\"Это бесконечный цикл!\")\n",
    "\n",
    "Этот код будет продолжать печатать строку “Это бесконечный цикл!” бесконечно, пока не будет остановлен вручную (например, с помощью клавиш Ctrl + C).\n",
    "\n",
    "Управляющие операторы в цикле while:\n",
    "\n",
    "\t1.\tbreak — завершает выполнение цикла, даже если условие еще истинно.\n",
    "Пример:\n",
    "\n",
    "i = 0\n",
    "while i < 10:\n",
    "    if i == 5:\n",
    "        break  # Прерывает цикл, если i равно 5\n",
    "    print(i)\n",
    "    i += 1\n",
    "\n",
    "Результат:\n",
    "\n",
    "0\n",
    "1\n",
    "2\n",
    "3\n",
    "4\n",
    "\n",
    "Как только i становится равным 5, оператор break прерывает цикл.\n",
    "\n",
    "\t2.\tcontinue — пропускает текущую итерацию цикла и продолжает выполнение со следующей итерации.\n",
    "Пример:\n",
    "\n",
    "i = 0\n",
    "while i < 5:\n",
    "    i += 1\n",
    "    if i == 3:\n",
    "        continue  # Пропускает печать числа 3\n",
    "    print(i)\n",
    "\n",
    "Результат:\n",
    "\n",
    "1\n",
    "2\n",
    "4\n",
    "5\n",
    "\n",
    "Когда i становится равным 3, оператор continue пропускает текущую итерацию, и число 3 не выводится.\n",
    "\n",
    "\t3.\telse — блок кода, который выполняется после завершения цикла, если цикл не был прерван оператором break.\n",
    "Пример:\n",
    "\n",
    "i = 0\n",
    "while i < 5:\n",
    "    print(i)\n",
    "    i += 1\n",
    "else:\n",
    "    print(\"Цикл завершен!\")\n",
    "\n",
    "Результат:\n",
    "\n",
    "0\n",
    "1\n",
    "2\n",
    "3\n",
    "4\n",
    "Цикл завершен!\n",
    "\n",
    "В этом примере после выполнения цикла и достижения конца, когда условие становится ложным, выполняется блок кода в else.\n",
    "\n",
    "Примечания:\n",
    "\n",
    "\t•\tЦикл while требует, чтобы условие в какой-то момент стало ложным, иначе цикл станет бесконечным. Это может привести к зависанию программы.\n",
    "\t•\tОператоры break и continue позволяют гибко управлять выполнением цикла в зависимости от условий.\n",
    "\n",
    "Итог:\n",
    "\n",
    "Цикл while в Python — это мощный инструмент для многократного выполнения блоков кода, который продолжается до тех пор, пока не выполнится условие."
   ]
  },
  {
   "cell_type": "code",
   "execution_count": 1,
   "metadata": {},
   "outputs": [],
   "source": [
    "our_threshold = 5\n",
    "i = 0"
   ]
  },
  {
   "cell_type": "code",
   "execution_count": 2,
   "metadata": {},
   "outputs": [
    {
     "name": "stdout",
     "output_type": "stream",
     "text": [
      "Do important logic here.\n",
      "Do important logic here.\n",
      "Do important logic here.\n",
      "Do important logic here.\n",
      "Do important logic here.\n"
     ]
    }
   ],
   "source": [
    "while i < our_threshold:\n",
    "    print('Do important logic here.')\n",
    "    i += 1"
   ]
  },
  {
   "cell_type": "code",
   "execution_count": 3,
   "metadata": {},
   "outputs": [
    {
     "data": {
      "text/plain": [
       "5"
      ]
     },
     "execution_count": 3,
     "metadata": {},
     "output_type": "execute_result"
    }
   ],
   "source": [
    "i"
   ]
  },
  {
   "cell_type": "markdown",
   "metadata": {},
   "source": [
    "If evaluation is `False`, the code suite in while won't be executed"
   ]
  },
  {
   "cell_type": "code",
   "execution_count": 4,
   "metadata": {},
   "outputs": [],
   "source": [
    "i = 10\n",
    "while i < our_threshold:\n",
    "    print('Do important logic here.')\n",
    "    i += 1"
   ]
  },
  {
   "cell_type": "code",
   "execution_count": 5,
   "metadata": {},
   "outputs": [
    {
     "name": "stdout",
     "output_type": "stream",
     "text": [
      "10\n"
     ]
    }
   ],
   "source": [
    "print(i)"
   ]
  },
  {
   "cell_type": "markdown",
   "metadata": {},
   "source": [
    "## Break and continue"
   ]
  },
  {
   "cell_type": "code",
   "execution_count": 6,
   "metadata": {},
   "outputs": [
    {
     "name": "stdout",
     "output_type": "stream",
     "text": [
      "Variable i: 0. Do important logic here.\n",
      "Variable i: 1. Do important logic here.\n",
      "Variable i: 2. Do important logic here.\n",
      "Variable i: 3. Do important logic here.\n",
      "Variable i: 4. Do important logic here.\n",
      "Variable i: 5. Do important logic here.\n",
      "Variable i: 6. Do important logic here.\n",
      "Good reason to stop\n"
     ]
    }
   ],
   "source": [
    "our_threshold = 10\n",
    "i = 0\n",
    "\n",
    "while i < our_threshold:\n",
    "    print(f'Variable i: {i}.', end=' ')\n",
    "    print('Do important logic here.')\n",
    "    i += 1\n",
    "    if i % 7 == 0:\n",
    "        print('Good reason to stop')\n",
    "        break"
   ]
  },
  {
   "cell_type": "code",
   "execution_count": null,
   "metadata": {},
   "outputs": [],
   "source": [
    "our_threshold = 23\n",
    "i = 1\n",
    "\n",
    "while i < our_threshold:\n",
    "    print(f'Variable i: {i}.', end=' ')\n",
    "    if i % 7 == 0:\n",
    "        print('Do very very important task and that`s it')\n",
    "        i += 1\n",
    "        continue # try to comment\n",
    "    \n",
    "    print('Do important logic here.')\n",
    "    i += 1"
   ]
  },
  {
   "cell_type": "markdown",
   "metadata": {},
   "source": [
    "Sometimes it is important to know that in your `while` loop, which has one or more `break` statements, a `break` of iterations actually took place or not."
   ]
  },
  {
   "cell_type": "code",
   "execution_count": null,
   "metadata": {},
   "outputs": [],
   "source": [
    "our_threshold = 6 # try to change to 6\n",
    "i = 0\n",
    "\n",
    "while i < our_threshold:\n",
    "    print(f'Variable i: {i}.', end=' ')\n",
    "    print('Do important logic here.')\n",
    "    i += 1\n",
    "    if i % 7 == 0:\n",
    "        print('Something went wrong')\n",
    "        everything_ok = False\n",
    "        break\n",
    "else:\n",
    "    print('This imporatant logic will take place only if nothing broken')"
   ]
  },
  {
   "cell_type": "code",
   "execution_count": null,
   "metadata": {},
   "outputs": [],
   "source": [
    "while 1:\n",
    "    print('OK')"
   ]
  }
 ],
 "metadata": {
  "kernelspec": {
   "display_name": "Python 3 (ipykernel)",
   "language": "python",
   "name": "python3"
  },
  "language_info": {
   "codemirror_mode": {
    "name": "ipython",
    "version": 3
   },
   "file_extension": ".py",
   "mimetype": "text/x-python",
   "name": "python",
   "nbconvert_exporter": "python",
   "pygments_lexer": "ipython3",
   "version": "3.12.7"
  }
 },
 "nbformat": 4,
 "nbformat_minor": 4
}
