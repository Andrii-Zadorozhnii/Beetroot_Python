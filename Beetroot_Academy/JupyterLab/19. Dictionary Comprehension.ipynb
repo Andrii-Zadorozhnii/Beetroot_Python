{
 "cells": [
  {
   "metadata": {},
   "cell_type": "markdown",
   "source": [
    "Генератор словарей (dictionary comprehension) — это способ создания словарей с использованием компактной записи. Он работает аналогично генератору списка, но возвращает пары “ключ-значение” в виде словаря.\n",
    "\n",
    "Основная структура генератора словаря:"
   ],
   "id": "9d833a9a06966dd1"
  },
  {
   "metadata": {
    "ExecuteTime": {
     "end_time": "2024-12-07T12:47:01.750620Z",
     "start_time": "2024-12-07T12:47:01.648006Z"
    }
   },
   "cell_type": "code",
   "source": "{ключ: значение for элемент in итерируемый_объект if условие}",
   "id": "c6569fbd685651cf",
   "outputs": [
    {
     "ename": "NameError",
     "evalue": "name 'итерируемый_объект' is not defined",
     "output_type": "error",
     "traceback": [
      "\u001B[0;31m---------------------------------------------------------------------------\u001B[0m",
      "\u001B[0;31mNameError\u001B[0m                                 Traceback (most recent call last)",
      "Cell \u001B[0;32mIn[3], line 1\u001B[0m\n\u001B[0;32m----> 1\u001B[0m {ключ: значение \u001B[38;5;28;01mfor\u001B[39;00m элемент \u001B[38;5;129;01min\u001B[39;00m \u001B[43mитерируемый_объект\u001B[49m \u001B[38;5;28;01mif\u001B[39;00m условие}\n",
      "\u001B[0;31mNameError\u001B[0m: name 'итерируемый_объект' is not defined"
     ]
    }
   ],
   "execution_count": 3
  },
  {
   "metadata": {},
   "cell_type": "markdown",
   "source": [
    "•\tключ — это выражение для ключа в словаре.\n",
    "•\tзначение — это выражение для значения, которое будет связано с ключом.\n",
    "•\tэлемент — переменная, которая поочередно принимает значения из итерируемого объекта.\n",
    "•\tусловие (необязательно) — фильтрация элементов."
   ],
   "id": "6924d975a72e807a"
  },
  {
   "metadata": {},
   "cell_type": "markdown",
   "source": [
    "Пример 1: Генерация словаря без условия\n",
    "\n",
    "Создание словаря, где ключами будут числа от 0 до 4, а значениями их квадраты:"
   ],
   "id": "794a9632804166c"
  },
  {
   "metadata": {},
   "cell_type": "code",
   "outputs": [],
   "execution_count": null,
   "source": [
    "squares = {x: x**2 for x in range(5)}\n",
    "print(squares)"
   ],
   "id": "a89274aeb9a02e92"
  },
  {
   "metadata": {},
   "cell_type": "markdown",
   "source": "Вывод:",
   "id": "b67a4d7d49d6327e"
  },
  {
   "metadata": {},
   "cell_type": "code",
   "outputs": [],
   "execution_count": null,
   "source": "{0: 0, 1: 1, 2: 4, 3: 9, 4: 16}",
   "id": "7ed59168d5e0fdac"
  },
  {
   "metadata": {},
   "cell_type": "markdown",
   "source": [
    "Пример 2: Генерация словаря с условием\n",
    "\n",
    "Создание словаря только для четных чисел:"
   ],
   "id": "5643512c1ca81a82"
  },
  {
   "metadata": {
    "ExecuteTime": {
     "end_time": "2024-12-07T12:43:53.525522Z",
     "start_time": "2024-12-07T12:43:53.523012Z"
    }
   },
   "cell_type": "code",
   "source": [
    "even_squares = {x: x**2 for x in range(10) if x % 2 == 0}\n",
    "print(even_squares)"
   ],
   "id": "3dd67478247bd107",
   "outputs": [
    {
     "name": "stdout",
     "output_type": "stream",
     "text": [
      "{0: 0, 2: 4, 4: 16, 6: 36, 8: 64}\n"
     ]
    }
   ],
   "execution_count": 2
  },
  {
   "metadata": {},
   "cell_type": "markdown",
   "source": "Вывод:",
   "id": "e6277e0ae3b24db6"
  },
  {
   "metadata": {
    "ExecuteTime": {
     "end_time": "2024-12-07T12:43:53.419329Z",
     "start_time": "2024-12-07T12:43:53.414264Z"
    }
   },
   "cell_type": "code",
   "source": "{0: 0, 2: 4, 4: 16, 6: 36, 8: 64}",
   "id": "995090a8d092b09e",
   "outputs": [
    {
     "data": {
      "text/plain": [
       "{0: 0, 2: 4, 4: 16, 6: 36, 8: 64}"
      ]
     },
     "execution_count": 1,
     "metadata": {},
     "output_type": "execute_result"
    }
   ],
   "execution_count": 1
  },
  {
   "metadata": {},
   "cell_type": "markdown",
   "source": [
    "Пример 3: Использование строки как исходных данных\n",
    "\n",
    "Создание словаря, где ключами будут символы строки, а значениями — их порядковые номера:"
   ],
   "id": "f08492d1b032e883"
  },
  {
   "metadata": {},
   "cell_type": "code",
   "outputs": [],
   "execution_count": null,
   "source": [
    "char_positions = {char: idx for idx, char in enumerate('hello')}\n",
    "print(char_positions)"
   ],
   "id": "11b438775a3b00b"
  },
  {
   "metadata": {},
   "cell_type": "markdown",
   "source": "Вывод:",
   "id": "f8c74558c277a71"
  },
  {
   "metadata": {},
   "cell_type": "code",
   "outputs": [],
   "execution_count": null,
   "source": "{'h': 0, 'e': 1, 'l': 2, 'o': 4}",
   "id": "60e9302510e50198"
  },
  {
   "metadata": {},
   "cell_type": "markdown",
   "source": [
    "Пример 4: Генерация словаря с преобразованием значений\n",
    "\n",
    "Можно использовать генераторы словарей для преобразования значений, например, преобразования в верхний регистр:"
   ],
   "id": "3214ca07cd26d39a"
  },
  {
   "metadata": {},
   "cell_type": "code",
   "outputs": [],
   "execution_count": null,
   "source": [
    "words = ['apple', 'banana', 'cherry']\n",
    "uppercase_words = {word: word.upper() for word in words}\n",
    "print(uppercase_words)"
   ],
   "id": "9fb88f54f35d6bb2"
  },
  {
   "metadata": {},
   "cell_type": "markdown",
   "source": "Вывод:",
   "id": "b16aabe30a048dc9"
  },
  {
   "metadata": {},
   "cell_type": "code",
   "outputs": [],
   "execution_count": null,
   "source": "{'apple': 'APPLE', 'banana': 'BANANA', 'cherry': 'CHERRY'}",
   "id": "a1dac6c436049ee3"
  },
  {
   "metadata": {},
   "cell_type": "markdown",
   "source": "Таким образом, генератор словарей позволяет создавать и фильтровать словари более компактно и элегантно.",
   "id": "6ef62adc129ed329"
  },
  {
   "metadata": {},
   "cell_type": "markdown",
   "source": "",
   "id": "943bf2bc8827d690"
  },
  {
   "metadata": {},
   "cell_type": "markdown",
   "source": "",
   "id": "59fee22b35bb1bd2"
  },
  {
   "metadata": {},
   "cell_type": "markdown",
   "source": "",
   "id": "64140ba814614017"
  },
  {
   "metadata": {},
   "cell_type": "markdown",
   "source": "",
   "id": "eb55f81431f683c"
  }
 ],
 "metadata": {
  "kernelspec": {
   "display_name": "Python 3",
   "language": "python",
   "name": "python3"
  },
  "language_info": {
   "codemirror_mode": {
    "name": "ipython",
    "version": 2
   },
   "file_extension": ".py",
   "mimetype": "text/x-python",
   "name": "python",
   "nbconvert_exporter": "python",
   "pygments_lexer": "ipython2",
   "version": "2.7.6"
  }
 },
 "nbformat": 4,
 "nbformat_minor": 5
}
