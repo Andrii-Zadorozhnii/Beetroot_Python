{
 "cells": [
  {
   "metadata": {},
   "cell_type": "markdown",
   "source": [
    "Что такое изменяемые и неизменяемые типы данных?\n",
    "\n",
    "В Python изменяемость (mutability) определяет, можно ли изменить объект после его создания.\n",
    "\t•\tИзменяемые типы данных (mutable): позволяют изменять содержимое объекта без изменения его идентификатора (адреса в памяти).\n",
    "\t•\tНеизменяемые типы данных (immutable): их содержимое нельзя изменить после создания. Любое изменение создаёт новый объект."
   ],
   "id": "ca483e3b8c4d4b0d"
  },
  {
   "metadata": {},
   "cell_type": "markdown",
   "source": [
    "Как Python управляет объектами?\n",
    "\n",
    "Когда создаётся объект, Python выделяет для него место в памяти и присваивает ему уникальный идентификатор. Вы можете проверить идентификатор объекта с помощью функции id()."
   ],
   "id": "522d80a6b3880020"
  },
  {
   "metadata": {},
   "cell_type": "markdown",
   "source": [
    "Примеры изменяемых и неизменяемых типов\n",
    "\n",
    "1. Неизменяемые типы (immutable)\n",
    "\n",
    "\t•\tЧисла: int, float, complex\n",
    "\t\n",
    "\t•\tЛогический тип: bool\n",
    "\t\n",
    "\t•\tСтроки: str\n",
    "\t\n",
    "\t•\tКортежи: tuple\n",
    "\t\n",
    "\t•\tМножества: frozenset\n",
    "\n",
    "Пример с числами:"
   ],
   "id": "c1736e7f00a03ecc"
  },
  {
   "metadata": {},
   "cell_type": "code",
   "outputs": [],
   "execution_count": null,
   "source": [
    "x = 10\n",
    "print(id(x))  # Например: 140735564851984\n",
    "x += 1\n",
    "print(id(x))  # Новый объект: 140735564852016"
   ],
   "id": "c71599edd3aa30cf"
  },
  {
   "metadata": {},
   "cell_type": "markdown",
   "source": [
    "Здесь при изменении x, создаётся новый объект.\n",
    "\n",
    "Пример со строками:"
   ],
   "id": "9e03a594fb7568a5"
  },
  {
   "metadata": {},
   "cell_type": "code",
   "outputs": [],
   "execution_count": null,
   "source": [
    "s = \"hello\"\n",
    "print(id(s))  # Например: 140594590614128\n",
    "s = s + \" world\"\n",
    "print(id(s))  # Новый объект: 140594590621456"
   ],
   "id": "6cfa3337445a2ec2"
  },
  {
   "metadata": {},
   "cell_type": "markdown",
   "source": "Строки неизменяемы: любое изменение создаёт новую строку.",
   "id": "df116fd34ae1d4e1"
  },
  {
   "metadata": {},
   "cell_type": "markdown",
   "source": [
    "2. Изменяемые типы (mutable)\n",
    "\n",
    "\t•\tСписки: list\n",
    "\t\n",
    "\t•\tСловари: dict\n",
    "\t\n",
    "\t•\tМножества: set\n",
    "\t\n",
    "\t•\tПользовательские объекты (классы)\n",
    "\n",
    "Пример со списком:"
   ],
   "id": "98d1f63b9ff69ddc"
  },
  {
   "metadata": {},
   "cell_type": "code",
   "outputs": [],
   "execution_count": null,
   "source": [
    "lst = [1, 2, 3]\n",
    "print(id(lst))  # Например: 140594590601472\n",
    "lst.append(4)\n",
    "print(id(lst))  # Идентификатор не изменился: 140594590601472"
   ],
   "id": "decfac3238302854"
  },
  {
   "metadata": {},
   "cell_type": "markdown",
   "source": [
    "Содержимое списка изменяется, но сам объект остаётся тем же.\n",
    "\n",
    "Пример со словарём:"
   ],
   "id": "3cb02faebe75a544"
  },
  {
   "metadata": {},
   "cell_type": "code",
   "outputs": [],
   "execution_count": null,
   "source": [
    "d = {'a': 1, 'b': 2}\n",
    "print(id(d))  # Например: 140594590602784\n",
    "d['c'] = 3\n",
    "print(id(d))  # Идентификатор не изменился: 140594590602784"
   ],
   "id": "7f31b0b0bbe52285"
  },
  {
   "metadata": {},
   "cell_type": "code",
   "outputs": [],
   "execution_count": null,
   "source": [
    "def modify_list(lst):\n",
    "    lst.append(4)\n",
    "\n",
    "my_list = [1, 2, 3]\n",
    "modify_list(my_list)\n",
    "print(my_list)  # [1, 2, 3, 4]"
   ],
   "id": "9af303d312c9c715"
  },
  {
   "metadata": {},
   "cell_type": "markdown",
   "source": "",
   "id": "662a9958dc95b72b"
  },
  {
   "metadata": {},
   "cell_type": "markdown",
   "source": [
    "2.\tНеизменяемые типы полезны для надёжности.\n",
    "Например, неизменяемые объекты, такие как строки и кортежи, могут использоваться в качестве ключей словаря, тогда как изменяемые типы — нет."
   ],
   "id": "5567045535125273"
  },
  {
   "metadata": {},
   "cell_type": "markdown",
   "source": [
    "Проверка на изменяемость\n",
    "\n",
    "Используем оператор is для проверки, изменился ли объект:\n",
    "\n",
    "Пример с кортежем (неизменяемый):"
   ],
   "id": "e98c28a88c8a5b09"
  },
  {
   "metadata": {},
   "cell_type": "code",
   "outputs": [],
   "execution_count": null,
   "source": [
    "t = (1, 2, 3)\n",
    "print(id(t))  # Например: 140594590603008\n",
    "t += (4,)     # Создаётся новый кортеж\n",
    "print(id(t))  # Новый идентификатор: 140594590603040"
   ],
   "id": "61a10ba65534e72a"
  },
  {
   "metadata": {},
   "cell_type": "markdown",
   "source": "Пример со списком (изменяемый):",
   "id": "1980f3ade13bdeda"
  },
  {
   "metadata": {},
   "cell_type": "code",
   "outputs": [],
   "execution_count": null,
   "source": [
    "lst = [1, 2, 3]\n",
    "print(id(lst))  # Например: 140594590603200\n",
    "lst.append(4)   # Изменяем содержимое\n",
    "print(id(lst))  # Идентификатор остаётся тем же: 140594590603200"
   ],
   "id": "33d50fd4a4df4ff4"
  },
  {
   "metadata": {},
   "cell_type": "markdown",
   "source": "Таблица для быстрого запоминания",
   "id": "77ac4267e8f0549"
  },
  {
   "metadata": {},
   "cell_type": "markdown",
   "source": [
    "Тип данных__________Изменяемость__________Пример\n",
    "\n",
    "int, float, bool________Неизменяемые__________x = 10; x += 1 (новый объект)\n",
    "\n",
    "str__________________Неизменяемые__________s = \"hello\"; s += \" world\"\n",
    "\n",
    "tuple________________Неизменяемые__________t = (1, 2); t += (3,)\n",
    "\n",
    "frozenset____________Неизменяемые__________fs = frozenset([1, 2, 3])\n",
    "\n",
    "list__________________Изменяемый____________lst = [1, 2]; lst.append(3)\n",
    "\n",
    "dict_________________Изменяемые_____________d = {'a': 1}; d['b'] = 2\n",
    "\n",
    "set__________________Изменяемые____________s = {1, 2}; s.add(3)"
   ],
   "id": "d84391cdf232a04a"
  },
  {
   "metadata": {},
   "cell_type": "markdown",
   "source": "",
   "id": "e949f24ac90b1917"
  }
 ],
 "metadata": {
  "kernelspec": {
   "display_name": "Python 3",
   "language": "python",
   "name": "python3"
  },
  "language_info": {
   "codemirror_mode": {
    "name": "ipython",
    "version": 2
   },
   "file_extension": ".py",
   "mimetype": "text/x-python",
   "name": "python",
   "nbconvert_exporter": "python",
   "pygments_lexer": "ipython2",
   "version": "2.7.6"
  }
 },
 "nbformat": 4,
 "nbformat_minor": 5
}
