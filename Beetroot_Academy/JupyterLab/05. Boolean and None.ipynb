{
 "cells": [
  {
   "cell_type": "markdown",
   "metadata": {},
   "source": [
    "# Booleans"
   ]
  },
  {
   "cell_type": "code",
   "execution_count": null,
   "metadata": {},
   "outputs": [],
   "source": [
    "В Python тип данных bool (булев тип) представляет два возможных значения: True и False. Булевы значения используются для логических операций и выражений. \n",
    "Сами по себе объекты типа bool имеют очень ограниченное количество методов, поскольку это наследуемый тип от целых чисел (int). \n",
    "Однако существует несколько встроенных операций и методов для работы с булевыми значениями:\n",
    "\n",
    "Операции и методы для bool:\n",
    "\n",
    "\t1.\tbool.__and__(other) (или оператор &) – выполняет побитовое логическое И с другим значением other.\n",
    "\t2.\tbool.__or__(other) (или оператор |) – выполняет побитовое логическое ИЛИ с другим значением other.\n",
    "\t3.\tbool.__xor__(other) (или оператор ^) – выполняет побитовое исключающее ИЛИ с другим значением other.\n",
    "\t4.\tbool.__invert__() (или оператор ~) – выполняет побитовую инверсию (логическое НЕ) булевого значения.\n",
    "\n",
    "Преобразование булевого значения:\n",
    "\n",
    "\t•\tbool() – конструктор для преобразования других типов данных в булев тип:\n",
    "\t•\tbool(0) возвращает False\n",
    "\t•\tbool(1) возвращает True\n",
    "\t•\tВсе пустые коллекции (например, [], '', {}) и None дают False\n",
    "\t•\tВсе ненулевые числа и непустые коллекции дают True\n",
    "\n",
    "Примечания:\n",
    "\n",
    "\t•\tБулевы значения в Python имеют поведение как целые числа: True эквивалентно 1, а False эквивалентно 0. Это позволяет использовать булевые значения в \n",
    "        арифметических выражениях.\n",
    "Пример:\n",
    "\n",
    "True + 1  # Результат: 2\n",
    "False + 1  # Результат: 1\n",
    "\n",
    "\n",
    "\t•\tБольшинство операций с булевыми значениями можно выполнять через стандартные логические операторы:\n",
    "\t•\tand (логическое И)\n",
    "\t•\tor (логическое ИЛИ)\n",
    "\t•\tnot (логическое НЕ)\n",
    "\n",
    "Пример:\n",
    "\n",
    "a = True\n",
    "b = False\n",
    "\n",
    "print(a and b)  # False\n",
    "print(a or b)   # True\n",
    "print(not a)    # False\n",
    "\n",
    "В целом, bool в Python имеет достаточно простое использование, так как основной акцент делается на логических операциях и проверках истинности."
   ]
  },
  {
   "cell_type": "markdown",
   "metadata": {},
   "source": [
    "We have two built-in boolean data types in python - `True` and `False`"
   ]
  },
  {
   "cell_type": "code",
   "execution_count": null,
   "metadata": {},
   "outputs": [],
   "source": [
    "print(True, type(True))\n",
    "print(False, type(False))"
   ]
  },
  {
   "cell_type": "markdown",
   "metadata": {},
   "source": [
    "We can apply special boolean operations: <b>and</b>, <b>or</b>, <b>not</b>"
   ]
  },
  {
   "cell_type": "code",
   "execution_count": null,
   "metadata": {},
   "outputs": [],
   "source": [
    "print(not True)\n",
    "print(not False)"
   ]
  },
  {
   "cell_type": "code",
   "execution_count": null,
   "metadata": {},
   "outputs": [],
   "source": [
    "print(True or True)\n",
    "print(True or False)\n",
    "print(False or True)\n",
    "print(False or False)"
   ]
  },
  {
   "cell_type": "code",
   "execution_count": null,
   "metadata": {},
   "outputs": [],
   "source": [
    "print(True and True)\n",
    "print(True and False)\n",
    "print(False and True)\n",
    "print(False and False)"
   ]
  },
  {
   "cell_type": "markdown",
   "metadata": {},
   "source": [
    "As arithmetic order precedence, we have the boolean operators precedence as follows (from higher to lower): `not`, `and`, `or`"
   ]
  },
  {
   "cell_type": "code",
   "execution_count": null,
   "metadata": {},
   "outputs": [],
   "source": [
    "print(True or False and True)"
   ]
  },
  {
   "cell_type": "code",
   "execution_count": null,
   "metadata": {},
   "outputs": [],
   "source": [
    "print(False or True and True)"
   ]
  },
  {
   "cell_type": "markdown",
   "metadata": {},
   "source": [
    "We can also use brackets to specify the order of operations, because Python operator `( )` has the highest precedence"
   ]
  },
  {
   "cell_type": "code",
   "execution_count": null,
   "metadata": {},
   "outputs": [],
   "source": [
    "print(True or (False and True))\n",
    "print((False or True) and False)"
   ]
  },
  {
   "cell_type": "markdown",
   "metadata": {},
   "source": [
    "# None"
   ]
  },
  {
   "cell_type": "code",
   "execution_count": null,
   "metadata": {},
   "outputs": [],
   "source": [
    "В Python None — это специальный тип, который представляет отсутствие значения или неопределенное состояние. Он является объектом, и существует только одно значение этого типа — None. Это значение часто используется для обозначения отсутствия результата, пустого значения или как маркер отсутствующих данных.\n",
    "\n",
    "Тип None не имеет собственных методов, но есть несколько способов его использования и взаимодействия с ним:\n",
    "\n",
    "Основные операции с None:\n",
    "\n",
    "\t1.\tПроверка на None:\n",
    "\t•\tВ Python None часто используется в условных выражениях для проверки, был ли инициализирован объект или возвращено ли “ничего” из функции.\n",
    "Пример:\n",
    "\n",
    "x = None\n",
    "if x is None:\n",
    "    print(\"x is None\")\n",
    "\n",
    "Важно использовать оператор is, а не ==, так как None является уникальным объектом в Python, и сравнение через is проверяет на идентичность объектов.\n",
    "\n",
    "\t2.\tОператор is:\n",
    "\t•\tДля сравнения None с другим значением следует использовать оператор is, так как это проверяет, указывают ли две переменные на один и тот же объект.\n",
    "Пример:\n",
    "\n",
    "x = None\n",
    "y = None\n",
    "print(x is y)  # True, так как оба указывают на один и тот же объект None\n",
    "\n",
    "\n",
    "\t3.\tПрисваивание None:\n",
    "\t•\tВ Python, если переменной не присвоено конкретное значение, то она может быть установлена в None.\n",
    "Пример:\n",
    "\n",
    "result = None\n",
    "\n",
    "\n",
    "\t4.\tИспользование в функциях:\n",
    "\t•\tNone часто используется как возвращаемое значение по умолчанию для функций, чтобы указать на отсутствие результата.\n",
    "Пример:\n",
    "\n",
    "def find_item(item_list, target):\n",
    "    for item in item_list:\n",
    "        if item == target:\n",
    "            return item\n",
    "    return None  # если элемент не найден, возвращаем None\n",
    "\n",
    "result = find_item([1, 2, 3], 4)\n",
    "if result is None:\n",
    "    print(\"Item not found\")\n",
    "\n",
    "\n",
    "\n",
    "Что важно помнить:\n",
    "\n",
    "\t•\tNone используется в Python для различных целей, включая сигнализацию об отсутствии значения, возвращаемое значение функций, которые не имеют явного результата, а также в качестве дефолтного значения для параметров функции.\n",
    "\t•\tNone нельзя преобразовать в другие типы данных напрямую. Он остается объектом типа NoneType, и его можно проверить с помощью оператора is None.\n",
    "\n",
    "Пример:\n",
    "\n",
    "print(type(None))  # <class 'NoneType'>\n",
    "\n",
    "Итог:\n",
    "\n",
    "\t•\tNone является уникальным значением в Python, не имеющим методов и свойств.\n",
    "\t•\tОн используется для обозначения отсутствия значения и в качестве маркера в различных ситуациях, таких как отсутствие результата, неопределенные данные или инициализация переменных."
   ]
  },
  {
   "cell_type": "markdown",
   "metadata": {},
   "source": [
    "There is only one special type in Python to represent null called `None` with type `NoneType`. `None` is commonly used for checking the absence of result or value and doesn't support special operations."
   ]
  },
  {
   "cell_type": "code",
   "execution_count": null,
   "metadata": {},
   "outputs": [],
   "source": [
    "print(None)\n",
    "print(type(None))"
   ]
  },
  {
   "cell_type": "code",
   "execution_count": null,
   "metadata": {},
   "outputs": [],
   "source": [
    "s = 'sdf'"
   ]
  },
  {
   "cell_type": "code",
   "execution_count": null,
   "metadata": {},
   "outputs": [],
   "source": [
    "s is None"
   ]
  }
 ],
 "metadata": {
  "kernelspec": {
   "display_name": "Python 3 (ipykernel)",
   "language": "python",
   "name": "python3"
  },
  "language_info": {
   "codemirror_mode": {
    "name": "ipython",
    "version": 3
   },
   "file_extension": ".py",
   "mimetype": "text/x-python",
   "name": "python",
   "nbconvert_exporter": "python",
   "pygments_lexer": "ipython3",
   "version": "3.12.7"
  }
 },
 "nbformat": 4,
 "nbformat_minor": 4
}
