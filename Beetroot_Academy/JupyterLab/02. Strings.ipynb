{
 "cells": [
  {
   "cell_type": "markdown",
   "metadata": {},
   "source": [
    "# Built-in data types: Strings"
   ]
  },
  {
   "cell_type": "markdown",
   "metadata": {},
   "source": [
    "Strings represent some amount of characters and in general represent texts. Strings can be created by using quotation marks: `'`, `\"` and `\"\"\"`."
   ]
  },
  {
   "cell_type": "code",
   "execution_count": null,
   "metadata": {},
   "outputs": [],
   "source": [
    "В Python строки (тип str) имеют множество встроенных методов для обработки текста. Вот полный список методов строк:\n",
    "\t1.\tstr.capitalize() – делает первый символ строки заглавным, остальные — строчными.\n",
    "\t2.\tstr.casefold() – возвращает строку в нижнем регистре, предназначено для нечувствительных к регистру сравнений.\n",
    "\t3.\tstr.center(width, fillchar=' ') – выравнивает строку по центру в пределах указанной ширины, заполняя пространство символами fillchar.\n",
    "\t4.\tstr.count(substring, start=0, end=len(str)) – возвращает количество непересекающихся вхождений подстроки в строку.\n",
    "\t5.\tstr.encode(encoding='utf-8', errors='strict') – кодирует строку в байты с указанной кодировкой.\n",
    "\t6.\tstr.endswith(suffix, start=0, end=len(str)) – проверяет, заканчивается ли строка на подстроку suffix.\n",
    "\t7.\tstr.expandtabs(tabsize=8) – заменяет символы табуляции на соответствующее количество пробелов.\n",
    "\t8.\tstr.find(substring, start=0, end=len(str)) – находит первое вхождение подстроки в строку и возвращает его индекс (или -1, если не найдено).\n",
    "\t9.\tstr.format(*args, **kwargs) – форматирует строку, заменяя {} на переданные значения.\n",
    "\t10.\tstr.format_map(mapping) – аналогично format, но использует переданный объект для замены значений.\n",
    "\t11.\tstr.index(substring, start=0, end=len(str)) – находит первое вхождение подстроки в строку, аналогично find, но вызывает ошибку, если подстрока не найдена.\n",
    "\t12.\tstr.isalnum() – проверяет, состоит ли строка только из букв и цифр.\n",
    "\t13.\tstr.isalpha() – проверяет, состоит ли строка только из букв.\n",
    "\t14.\tstr.isdecimal() – проверяет, состоит ли строка только из десятичных цифр.\n",
    "\t15.\tstr.isdigit() – проверяет, состоит ли строка только из цифр.\n",
    "\t16.\tstr.isidentifier() – проверяет, является ли строка допустимым идентификатором (например, для переменной).\n",
    "\t17.\tstr.islower() – проверяет, состоит ли строка только из строчных букв.\n",
    "\t18.\tstr.isnumeric() – проверяет, состоит ли строка только из числовых символов.\n",
    "\t19.\tstr.isprintable() – проверяет, состоит ли строка только из символов, которые могут быть напечатаны.\n",
    "\t20.\tstr.isspace() – проверяет, состоит ли строка только из пробельных символов.\n",
    "\t21.\tstr.istitle() – проверяет, начинается ли каждый элемент строки с заглавной буквы.\n",
    "\t22.\tstr.isupper() – проверяет, состоит ли строка только из заглавных букв.\n",
    "\t23.\tstr.join(iterable) – объединяет элементы в итерируемом объекте, вставляя между ними строку.\n",
    "\t24.\tstr.ljust(width, fillchar=' ') – выравнивает строку по левому краю в пределах указанной ширины, заполняя пробелами или указанным символом.\n",
    "\t25.\tstr.lower() – возвращает строку в нижнем регистре.\n",
    "\t26.\tstr.lstrip(chars=None) – удаляет все символы с начала строки, которые указаны в chars (по умолчанию пробелы).\n",
    "\t27.\tstr.maketrans(x, y=None) – создаёт таблицу для перевода символов.\n",
    "\t28.\tstr.partition(separator) – делит строку на три части: до разделителя, сам разделитель и после него.\n",
    "\t29.\tstr.replace(old, new, count=-1) – заменяет в строке все или указанные вхождения подстроки old на new.\n",
    "\t30.\tstr.rfind(substring, start=0, end=len(str)) – находит последнее вхождение подстроки и возвращает его индекс (или -1, если не найдено).\n",
    "\t31.\tstr.rindex(substring, start=0, end=len(str)) – находит последнее вхождение подстроки, аналогично rfind, но вызывает ошибку, если подстрока не найдена.\n",
    "\t32.\tstr.rjust(width, fillchar=' ') – выравнивает строку по правому краю в пределах указанной ширины.\n",
    "\t33.\tstr.rsplit(separator=None, maxsplit=-1) – разделяет строку на список с правой стороны по указанному разделителю.\n",
    "\t34.\tstr.rstrip(chars=None) – удаляет символы с конца строки, указанные в chars (по умолчанию пробелы).\n",
    "\t35.\tstr.split(separator=None, maxsplit=-1) – разделяет строку на список, разделяя по указанному разделителю.\n",
    "\t36.\tstr.splitlines(keepends=False) – разделяет строку на список строк, удаляя символы новой строки.\n",
    "\t37.\tstr.startswith(prefix, start=0, end=len(str)) – проверяет, начинается ли строка с подстроки prefix.\n",
    "\t38.\tstr.strip(chars=None) – удаляет символы с обеих сторон строки, указанные в chars (по умолчанию пробелы).\n",
    "\t39.\tstr.swapcase() – меняет регистр каждого символа: строчные на заглавные и наоборот.\n",
    "\t40.\tstr.title() – преобразует строку в титульный регистр (первую букву каждого слова делает заглавной).\n",
    "\t41.\tstr.upper() – возвращает строку в верхнем регистре.\n",
    "\t42.\tstr.zfill(width) – заполняет строку нулями слева до указанной ширины.\n",
    "\n",
    "Эти методы позволяют выполнять большинство операций над строками в Python, от преобразования регистра до разделения и замены подстрок."
   ]
  },
  {
   "cell_type": "code",
   "execution_count": null,
   "metadata": {},
   "outputs": [],
   "source": [
    "'hello'"
   ]
  },
  {
   "cell_type": "code",
   "execution_count": null,
   "metadata": {},
   "outputs": [],
   "source": [
    "\"hello, my is Batman. My age is 33\""
   ]
  },
  {
   "cell_type": "code",
   "execution_count": null,
   "metadata": {},
   "outputs": [],
   "source": [
    "s = \"\"\"ghghghghgh jfjjfjdfjdjf\n",
    "\n",
    "jhdjfgdjfdfgj\n",
    "\n",
    "\n",
    "        gjjgghjhghg\n",
    "\n",
    "\"\"\"\n",
    "print(s)"
   ]
  },
  {
   "cell_type": "code",
   "execution_count": null,
   "metadata": {},
   "outputs": [],
   "source": [
    "s"
   ]
  },
  {
   "cell_type": "code",
   "execution_count": null,
   "metadata": {},
   "outputs": [],
   "source": [
    "s = 'hello\\\n",
    "hello'\n",
    "print(s)"
   ]
  },
  {
   "cell_type": "code",
   "execution_count": null,
   "metadata": {},
   "outputs": [],
   "source": [
    "s = 'hello, \"New York\"'\n",
    "print(s)"
   ]
  },
  {
   "cell_type": "code",
   "execution_count": null,
   "metadata": {},
   "outputs": [],
   "source": [
    "s = 'hello, \\'New York\\''\n",
    "print(s)"
   ]
  },
  {
   "cell_type": "code",
   "execution_count": null,
   "metadata": {},
   "outputs": [],
   "source": [
    "s"
   ]
  },
  {
   "cell_type": "code",
   "execution_count": null,
   "metadata": {},
   "outputs": [],
   "source": [
    "s = ''\n",
    "type(s)"
   ]
  },
  {
   "cell_type": "code",
   "execution_count": null,
   "metadata": {},
   "outputs": [],
   "source": []
  },
  {
   "cell_type": "code",
   "execution_count": null,
   "metadata": {},
   "outputs": [],
   "source": [
    "s = \"q\""
   ]
  },
  {
   "cell_type": "code",
   "execution_count": null,
   "metadata": {},
   "outputs": [],
   "source": [
    "type(s)"
   ]
  },
  {
   "cell_type": "markdown",
   "metadata": {},
   "source": [
    "Every string has its length, which could be accessed by using built-in function: <b>len</b>"
   ]
  },
  {
   "cell_type": "code",
   "execution_count": null,
   "metadata": {},
   "outputs": [],
   "source": [
    "print(len(\"foo \"))\n",
    "print(len(\"b\"))\n",
    "print(len(''))"
   ]
  },
  {
   "cell_type": "markdown",
   "metadata": {},
   "source": [
    "We can concatenate strings using `+` instruction."
   ]
  },
  {
   "cell_type": "code",
   "execution_count": null,
   "metadata": {},
   "outputs": [],
   "source": [
    "print('Hello' + ' ' + 'World' + '!')"
   ]
  },
  {
   "cell_type": "code",
   "execution_count": null,
   "metadata": {},
   "outputs": [],
   "source": [
    "\"foo\" * 5 == \"foo\" + \"foo\" + \"foo\" + \"foo\"+\"foo\""
   ]
  },
  {
   "cell_type": "markdown",
   "metadata": {},
   "source": [
    "There are a bunch of methods associated with strings in Python (for now thinking about methods as special instructions/actions/operations which are bound to the object, in our case to a string; more information related to this subject will be given in the next lessons).\n",
    "\n",
    "Let's expolore some of them."
   ]
  },
  {
   "cell_type": "markdown",
   "metadata": {},
   "source": [
    "To count the number of specific characters in a string we can use `count`."
   ]
  },
  {
   "cell_type": "code",
   "execution_count": null,
   "metadata": {},
   "outputs": [],
   "source": [
    "s = 'hello'"
   ]
  },
  {
   "cell_type": "code",
   "execution_count": null,
   "metadata": {},
   "outputs": [],
   "source": [
    "s.count('lo')"
   ]
  },
  {
   "cell_type": "code",
   "execution_count": null,
   "metadata": {},
   "outputs": [],
   "source": [
    "s.upper()"
   ]
  },
  {
   "cell_type": "code",
   "execution_count": null,
   "metadata": {},
   "outputs": [],
   "source": [
    "print(s)"
   ]
  },
  {
   "cell_type": "code",
   "execution_count": null,
   "metadata": {},
   "outputs": [],
   "source": [
    "s = s + ' world'\n",
    "print(s)"
   ]
  },
  {
   "cell_type": "code",
   "execution_count": null,
   "metadata": {},
   "outputs": [],
   "source": [
    "print(s)"
   ]
  },
  {
   "cell_type": "code",
   "execution_count": null,
   "metadata": {},
   "outputs": [],
   "source": [
    "s = s.upper()\n",
    "print(s)"
   ]
  },
  {
   "cell_type": "code",
   "execution_count": null,
   "metadata": {},
   "outputs": [],
   "source": [
    "s = s.lower()\n",
    "print(s)"
   ]
  },
  {
   "cell_type": "code",
   "execution_count": null,
   "metadata": {},
   "outputs": [],
   "source": [
    "s.replace('lo', 'foo')"
   ]
  },
  {
   "cell_type": "code",
   "execution_count": null,
   "metadata": {},
   "outputs": [],
   "source": [
    "s = 'hello hello'"
   ]
  },
  {
   "cell_type": "code",
   "execution_count": null,
   "metadata": {},
   "outputs": [],
   "source": [
    "s.replace('lo', 'foo')"
   ]
  },
  {
   "cell_type": "code",
   "execution_count": null,
   "metadata": {},
   "outputs": [],
   "source": [
    "'hello'.isalpha()"
   ]
  },
  {
   "cell_type": "code",
   "execution_count": null,
   "metadata": {},
   "outputs": [],
   "source": [
    "s.isalpha()"
   ]
  },
  {
   "cell_type": "code",
   "execution_count": null,
   "metadata": {},
   "outputs": [],
   "source": [
    "'1234'.isdigit() "
   ]
  },
  {
   "cell_type": "markdown",
   "metadata": {},
   "source": [
    "We can also check whether a substring is part of a string using the `in` operator.\n"
   ]
  },
  {
   "cell_type": "code",
   "execution_count": null,
   "metadata": {},
   "outputs": [],
   "source": [
    "print('he' in 'hello')\n",
    "print('x' in 'hello')"
   ]
  },
  {
   "cell_type": "code",
   "execution_count": null,
   "metadata": {},
   "outputs": [],
   "source": [
    "hello_str = 'hello'\n",
    "print(hello_str.index('h')) # to get index of substring\n",
    "print(hello_str.index('el'))"
   ]
  },
  {
   "cell_type": "code",
   "execution_count": null,
   "metadata": {},
   "outputs": [],
   "source": [
    "hello_str.index('x')"
   ]
  },
  {
   "cell_type": "code",
   "execution_count": null,
   "metadata": {},
   "outputs": [],
   "source": [
    "print(hello_str.find('l'))\n",
    "print(hello_str.find('z'))\n"
   ]
  },
  {
   "cell_type": "code",
   "execution_count": null,
   "metadata": {},
   "outputs": [],
   "source": [
    "s = \"helloh\""
   ]
  },
  {
   "cell_type": "code",
   "execution_count": null,
   "metadata": {},
   "outputs": [],
   "source": [
    "s.find(\"h\")"
   ]
  },
  {
   "cell_type": "code",
   "execution_count": null,
   "metadata": {},
   "outputs": [],
   "source": [
    "print(s.rfind('h'))"
   ]
  },
  {
   "cell_type": "code",
   "execution_count": null,
   "metadata": {},
   "outputs": [],
   "source": [
    "print(hello_str)"
   ]
  },
  {
   "cell_type": "markdown",
   "metadata": {},
   "source": [
    "As you can see, in python indexing starts from zero, thus the first element of a string is located at index 0. To access elements of the string by index we have to use `[ ]` ."
   ]
  },
  {
   "cell_type": "code",
   "execution_count": null,
   "metadata": {},
   "outputs": [],
   "source": [
    "print(hello_str[0], hello_str[1], hello_str[2], hello_str[3], hello_str[4], sep='')"
   ]
  },
  {
   "cell_type": "markdown",
   "metadata": {},
   "source": [
    "An attempt to access an element of the string by index beyond the string length will raise an Error."
   ]
  },
  {
   "cell_type": "code",
   "execution_count": null,
   "metadata": {},
   "outputs": [],
   "source": [
    "hello_str[5]"
   ]
  },
  {
   "cell_type": "code",
   "execution_count": null,
   "metadata": {},
   "outputs": [],
   "source": [
    "hello_str[-1]\n",
    "hello_str[-5]"
   ]
  },
  {
   "cell_type": "markdown",
   "metadata": {},
   "source": [
    "We can slice a string using `[ ]` `string[x: y]`, which will return a substring from index `x(inclusively)` to `y(exclusively)`"
   ]
  },
  {
   "cell_type": "code",
   "execution_count": null,
   "metadata": {},
   "outputs": [],
   "source": [
    "our_str = 'Python is not a snake'\n",
    "print(our_str[0:6])"
   ]
  },
  {
   "cell_type": "code",
   "execution_count": null,
   "metadata": {},
   "outputs": [],
   "source": [
    "print(our_str[-5: -1])"
   ]
  },
  {
   "cell_type": "code",
   "execution_count": null,
   "metadata": {},
   "outputs": [],
   "source": [
    "print(our_str[4: -1])"
   ]
  },
  {
   "cell_type": "code",
   "execution_count": null,
   "metadata": {},
   "outputs": [],
   "source": [
    "print(our_str[:6]) # as shortcut, if no first parameter has been passed slice will be from the begining of the string\n",
    "our_str[:6] == our_str[0:6]"
   ]
  },
  {
   "cell_type": "code",
   "execution_count": null,
   "metadata": {},
   "outputs": [],
   "source": [
    "print(our_str[6:]) # same for upper bound in slicing, if no paratemer passed slice to the end of the string\n",
    "our_str[6:] == our_str[6:-1]"
   ]
  },
  {
   "cell_type": "code",
   "execution_count": null,
   "metadata": {},
   "outputs": [],
   "source": [
    "our_str[6:] == our_str[6:len(our_str)]"
   ]
  },
  {
   "cell_type": "code",
   "execution_count": null,
   "metadata": {},
   "outputs": [],
   "source": [
    "print(our_str[:]) # whole string as slice"
   ]
  },
  {
   "cell_type": "code",
   "execution_count": null,
   "metadata": {},
   "outputs": [],
   "source": [
    "print(our_str)"
   ]
  },
  {
   "cell_type": "code",
   "execution_count": null,
   "metadata": {},
   "outputs": [],
   "source": [
    "print(our_str[1:10:2])"
   ]
  },
  {
   "cell_type": "markdown",
   "metadata": {},
   "source": [
    "# String formating"
   ]
  },
  {
   "cell_type": "markdown",
   "metadata": {},
   "source": [
    "There are several types of string formatting available in python. Let's look at some of them"
   ]
  },
  {
   "cell_type": "code",
   "execution_count": null,
   "metadata": {},
   "outputs": [],
   "source": [
    "name = 'Batman'\n",
    "super_power = 'Intellect'\n",
    "enemy = 'Joker'"
   ]
  },
  {
   "cell_type": "code",
   "execution_count": null,
   "metadata": {},
   "outputs": [],
   "source": [
    "print(f'Superhero\\'s name is {name}, his super power - {super_power.upper()}, his enemy - {enemy[:2]}.')"
   ]
  },
  {
   "cell_type": "code",
   "execution_count": null,
   "metadata": {},
   "outputs": [],
   "source": [
    "res = f'Superhero\\'s name is {name}, his super power - {super_power.upper()}, his enemy - {enemy[:2]}.'"
   ]
  },
  {
   "cell_type": "code",
   "execution_count": null,
   "metadata": {},
   "outputs": [],
   "source": [
    "res"
   ]
  },
  {
   "cell_type": "code",
   "execution_count": null,
   "metadata": {},
   "outputs": [],
   "source": [
    "s = 'Super hero is {}, his super power is {}.'\n",
    "print(s.format(super_power, name))"
   ]
  },
  {
   "cell_type": "code",
   "execution_count": null,
   "metadata": {},
   "outputs": [],
   "source": [
    "print('Superhero name is {1}, his super power - {0}, his enemy - {2}'.format(super_power, enemy, name))"
   ]
  },
  {
   "cell_type": "code",
   "execution_count": null,
   "metadata": {},
   "outputs": [],
   "source": [
    "print('Superhero name is %s, his super power - %s, his enemy - %s' % (name, super_power, enemy))"
   ]
  },
  {
   "cell_type": "code",
   "execution_count": null,
   "metadata": {},
   "outputs": [],
   "source": [
    "print('this is cool number %d' % 3.141592653589793)"
   ]
  },
  {
   "cell_type": "code",
   "execution_count": null,
   "metadata": {},
   "outputs": [],
   "source": [
    "print('this is cool number %f' % 3.141592653589793)"
   ]
  },
  {
   "cell_type": "code",
   "execution_count": null,
   "metadata": {},
   "outputs": [],
   "source": [
    "print('this is cool number %.2f' % 3.141592653589793)"
   ]
  }
 ],
 "metadata": {
  "kernelspec": {
   "display_name": "Python 3 (ipykernel)",
   "language": "python",
   "name": "python3"
  },
  "language_info": {
   "codemirror_mode": {
    "name": "ipython",
    "version": 3
   },
   "file_extension": ".py",
   "mimetype": "text/x-python",
   "name": "python",
   "nbconvert_exporter": "python",
   "pygments_lexer": "ipython3",
   "version": "3.12.7"
  }
 },
 "nbformat": 4,
 "nbformat_minor": 4
}
