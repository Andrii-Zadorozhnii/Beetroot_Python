{
 "cells": [
  {
   "metadata": {},
   "cell_type": "code",
   "outputs": [],
   "execution_count": null,
   "source": [
    "def count_lines(name):\n",
    "    # Открытие файла с использованием with, чтобы файл закрылся автоматически\n",
    "    with open(name, 'r') as file:\n",
    "        lines = len(file.readlines())  # Чтение всех строк и подсчет их количества\n",
    "    return lines\n",
    "\n",
    "# Передаем имя файла как строку\n",
    "line_count = count_lines(\"reading_file.txt\")\n",
    "print(f\"Количество строк: {line_count}\")"
   ],
   "id": "391171b3442a3c98"
  },
  {
   "metadata": {},
   "cell_type": "markdown",
   "source": [
    "Пояснения:\n",
    "\n",
    "\t•\twith open(name, 'r') as file:: Это гарантирует, что файл будет автоматически закрыт после выполнения блока кода. Это лучший способ работы с файлами в Python.\n",
    "\t\n",
    "\t•\tfile.readlines(): Читает все строки из файла и возвращает их в виде списка.\n",
    "\t\n",
    "\t•\tlen(file.readlines()): Подсчитывает количество строк в файле.\n",
    "\t\n",
    "\t•\tcount_lines(\"reading_file.txt\"): В данном случае, \"reading_file.txt\" передается как имя файла.\n",
    "\t"
   ],
   "id": "72791a334bc06da2"
  },
  {
   "metadata": {},
   "cell_type": "markdown",
   "source": [
    "'r' — это один из режимов открытия файла в Python с помощью функции open(). Он означает, что файл будет открыт для чтения.\n",
    "\n",
    "\n",
    "Режимы открытия файлов в Python:\n",
    "\n",
    "\t•\t'r' — открытие файла для чтения (read). Если файл не существует, будет вызвана ошибка FileNotFoundError. Это значение по умолчанию, если режим не указан.\n",
    "\t\n",
    "\t•\t'w' — открытие файла для записи (write). Если файл не существует, он будет создан. Если файл существует, его содержимое будет перезаписано.\n",
    "\t\n",
    "\t•\t'a' — открытие файла для добавления (append). Если файл не существует, он будет создан. Если файл существует, данные будут добавляться в конец файла.\n",
    "\t\n",
    "\t•\t'x' — открытие файла для создания (exclusive creation). Если файл уже существует, будет вызвана ошибка FileExistsError. Если файл не существует, он будет создан.\n",
    "\t\n",
    "\t•\t'b' — бинарный режим. Этот режим используется для работы с бинарными файлами (например, изображениями, видео, и т. д.). Комбинируется с другими режимами:\n",
    "\t\n",
    "\t•\t'rb' — для чтения бинарных данных.\n",
    "\t\n",
    "\t•\t'wb' — для записи бинарных данных.\n",
    "\t\n",
    "\t•\t't' — текстовый режим. Это стандартный режим (по умолчанию), который работает с текстовыми файлами. Комбинируется с другими режимами:\n",
    "\t\n",
    "\t•\t'rt' — для чтения текста.\n",
    "\t\n",
    "\t•\t'wt' — для записи текста.\n",
    "\t"
   ],
   "id": "6362f7eb4f195cf0"
  },
  {
   "metadata": {},
   "cell_type": "markdown",
   "source": "",
   "id": "3564546bf6cb1dea"
  },
  {
   "metadata": {},
   "cell_type": "markdown",
   "source": [
    "Пример использования:\n",
    "\t•\tЧтение файла (открытие в режиме 'r'):"
   ],
   "id": "9803abce1e5bbbfe"
  },
  {
   "metadata": {},
   "cell_type": "code",
   "outputs": [],
   "execution_count": null,
   "source": [
    "with open('file.txt', 'r') as file:\n",
    "    content = file.read()\n",
    "    print(content)"
   ],
   "id": "89e77cdfd28626ca"
  },
  {
   "metadata": {},
   "cell_type": "markdown",
   "source": "\t•\tЗапись в файл (открытие в режиме 'w'):",
   "id": "9070b2c11747e00c"
  },
  {
   "metadata": {},
   "cell_type": "code",
   "outputs": [],
   "execution_count": null,
   "source": [
    "with open('file.txt', 'w') as file:\n",
    "    file.write(\"Hello, world!\")"
   ],
   "id": "ffe28a6c26bceb8b"
  },
  {
   "metadata": {},
   "cell_type": "markdown",
   "source": "file.seek(0)  # Перемотка файла в начало",
   "id": "1bb28d96a1632fed"
  },
  {
   "metadata": {},
   "cell_type": "code",
   "outputs": [],
   "execution_count": null,
   "source": [
    "def count_lines(file):\n",
    "    # Подсчет строк в файле\n",
    "    lines = len(file.readlines())\n",
    "    return f'Lines in the file: {lines}'\n",
    "\n",
    "def count_chars(file):\n",
    "    # Подсчет символов в файле\n",
    "    file.seek(0)  # Перемотка файла в начало\n",
    "    symbols = len(file.read())\n",
    "    return f'Symbols in the file: {symbols}'\n",
    "\n",
    "def test(name):\n",
    "    # Открытие файла\n",
    "    with open(name, 'r') as file:\n",
    "        print(count_lines(file))  # Вывод подсчета строк\n",
    "        print(count_chars(file))  # Вывод подсчета символов\n",
    "\n",
    "# Проверка, был ли модуль вызван напрямую\n",
    "if __name__ == \"__main__\":\n",
    "    import sys\n",
    "    if len(sys.argv) > 1:\n",
    "        test(sys.argv[1])  # Передаем файл из аргументов командной строки\n",
    "    else:\n",
    "        print(\"Please provide a filename as an argument.\")"
   ],
   "id": "dae0d8bcc8944be3"
  },
  {
   "metadata": {},
   "cell_type": "markdown",
   "source": [
    "Пояснение:\n",
    "\n",
    "\t1.\tcount_lines(file) и count_chars(file): Функции теперь принимают объект файла, а не имя файла. Это позволяет избежать открытия файла дважды.\n",
    "\t\n",
    "\t2.\tfile.seek(0): После чтения строк с помощью readlines(), мы перематываем указатель файла обратно в начало, чтобы потом подсчитать символы с помощью read().\n",
    "\t\n",
    "\t3.\ttest(name): Открытие файла внутри функции test и передача его в другие функции. Это предотвращает необходимость открывать файл дважды.\n",
    "\t\n",
    "\t4.\tif __name__ == \"__main__\":: Это условие позволяет запускать модуль как самостоятельный скрипт или импортировать его в другие скрипты."
   ],
   "id": "3831f0977fb19a4c"
  },
  {
   "metadata": {},
   "cell_type": "markdown",
   "source": "",
   "id": "ee3ec49a8ef4c836"
  }
 ],
 "metadata": {
  "kernelspec": {
   "display_name": "Python 3",
   "language": "python",
   "name": "python3"
  },
  "language_info": {
   "codemirror_mode": {
    "name": "ipython",
    "version": 2
   },
   "file_extension": ".py",
   "mimetype": "text/x-python",
   "name": "python",
   "nbconvert_exporter": "python",
   "pygments_lexer": "ipython2",
   "version": "2.7.6"
  }
 },
 "nbformat": 4,
 "nbformat_minor": 5
}
