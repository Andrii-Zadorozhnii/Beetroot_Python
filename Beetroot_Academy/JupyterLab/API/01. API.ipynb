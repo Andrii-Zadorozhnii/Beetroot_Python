{
 "cells": [
  {
   "metadata": {},
   "cell_type": "markdown",
   "source": [
    "\n",
    "# Работа с API в Python\n",
    "\n",
    "В этом ноутбуке представлена информация и примеры работы с API в Python.\n",
    "API (Application Programming Interface) — это интерфейс для взаимодействия между различными приложениями. API позволяет одной программе обмениваться данными или функционалом с другой программой через стандартные протоколы. В контексте Python работа с API обычно сводится к отправке HTTP-запросов и обработке полученных ответов.\n",
    "\n",
    "Основные концепции API:\n",
    "\t1.\tREST API (Representational State Transfer)\n",
    "RESTful API — наиболее распространённый вид API, использующий HTTP для передачи данных. REST API обычно работает с форматами JSON или XML.\n",
    "Методы HTTP:\n",
    "\t•\tGET: для получения данных.\n",
    "\t•\tPOST: для отправки данных на сервер.\n",
    "\t•\tPUT: для обновления существующих данных.\n",
    "\t•\tDELETE: для удаления данных.\n",
    "\t2.\tAPI-ключи и токены авторизации\n",
    "Многие API требуют авторизации через API-ключи или токены для обеспечения безопасности.\n",
    "\t3.\tДокументация API\n",
    "Каждый API предоставляет документацию, где описаны доступные методы, параметры, форматы запросов и ответов."
   ],
   "id": "96759a6b"
  },
  {
   "metadata": {},
   "cell_type": "markdown",
   "source": [
    "Работа с API в Python\n",
    "\n",
    "Для взаимодействия с API в Python используется библиотека requests, которая предоставляет удобный способ отправки HTTP-запросов."
   ],
   "id": "e42d741c687da907"
  },
  {
   "metadata": {},
   "cell_type": "code",
   "outputs": [],
   "execution_count": null,
   "source": [
    "\n",
    "# Установка библиотеки requests (если не установлена)\n",
    "!pip install requests\n"
   ],
   "id": "65415ce6"
  },
  {
   "metadata": {},
   "cell_type": "markdown",
   "source": [
    "Пример использования:\n",
    "\t1.\tGET-запрос:"
   ],
   "id": "852810dcb3ea153f"
  },
  {
   "cell_type": "code",
   "execution_count": null,
   "id": "ee6215b7",
   "metadata": {},
   "outputs": [],
   "source": [
    "\n",
    "import requests\n",
    "\n",
    "# Отправка GET-запроса\n",
    "response = requests.get(\"https://api.example.com/data\")\n",
    "\n",
    "# Проверка статуса ответа\n",
    "if response.status_code == 200:\n",
    "    data = response.json()  # Преобразуем JSON в словарь Python\n",
    "    print(data)\n",
    "else:\n",
    "    print(f\"Ошибка: {response.status_code}\")\n"
   ]
  },
  {
   "metadata": {},
   "cell_type": "markdown",
   "source": "\t2.\tPOST-запрос:",
   "id": "3d84247274505ef6"
  },
  {
   "cell_type": "code",
   "execution_count": null,
   "id": "c90aa600",
   "metadata": {},
   "outputs": [],
   "source": [
    "\n",
    "import requests\n",
    "\n",
    "url = \"https://api.example.com/data\"\n",
    "payload = {\n",
    "    \"name\": \"Andrii\",\n",
    "    \"age\": 30\n",
    "}\n",
    "headers = {\n",
    "    \"Authorization\": \"Bearer YOUR_API_TOKEN\",\n",
    "    \"Content-Type\": \"application/json\"\n",
    "}\n",
    "\n",
    "response = requests.post(url, json=payload, headers=headers)\n",
    "\n",
    "if response.status_code == 201:  # Код 201 обычно означает успешное создание\n",
    "    print(\"Данные успешно отправлены:\", response.json())\n",
    "else:\n",
    "    print(f\"Ошибка: {response.status_code}\")\n"
   ]
  },
  {
   "metadata": {},
   "cell_type": "markdown",
   "source": "\t3.\tПример с использованием API-ключа:",
   "id": "b41bf72222555074"
  },
  {
   "cell_type": "code",
   "execution_count": null,
   "id": "60d72f17",
   "metadata": {},
   "outputs": [],
   "source": [
    "\n",
    "import requests\n",
    "\n",
    "url = \"https://api.openweathermap.org/data/2.5/weather\"\n",
    "params = {\n",
    "    \"q\": \"Kyiv\",  # Город\n",
    "    \"appid\": \"YOUR_API_KEY\",  # Ваш API-ключ\n",
    "    \"units\": \"metric\"  # Единицы измерения (метрические)\n",
    "}\n",
    "\n",
    "response = requests.get(url, params=params)\n",
    "\n",
    "if response.status_code == 200:\n",
    "    weather_data = response.json()\n",
    "    print(f\"Погода в {weather_data['name']}: {weather_data['main']['temp']}°C\")\n",
    "else:\n",
    "    print(f\"Ошибка: {response.status_code}\")\n"
   ]
  },
  {
   "metadata": {},
   "cell_type": "markdown",
   "source": [
    "Полезные библиотеки:\n",
    "\t1.\thttpx — асинхронный аналог requests, поддерживает современные протоколы и более производителен.\n",
    "\t2.\taiohttp — для асинхронной работы с API.\n",
    "\t3.\tjson — стандартная библиотека Python для работы с JSON."
   ],
   "id": "b01e1784762f8b11"
  },
  {
   "metadata": {},
   "cell_type": "markdown",
   "source": [
    "Советы:\n",
    "\t1.\tПроверка ошибок:\n",
    "Используйте try-except для обработки ошибок:"
   ],
   "id": "443dc1fac4e5af15"
  },
  {
   "cell_type": "code",
   "execution_count": null,
   "id": "4f62d6b9",
   "metadata": {},
   "outputs": [],
   "source": [
    "\n",
    "import requests\n",
    "\n",
    "try:\n",
    "    response = requests.get(\"https://api.example.com/data\")\n",
    "    response.raise_for_status()  # Поднимает исключение при ошибке\n",
    "    print(response.json())\n",
    "except requests.exceptions.RequestException as e:\n",
    "    print(f\"Произошла ошибка: {e}\")\n"
   ]
  },
  {
   "metadata": {},
   "cell_type": "markdown",
   "source": [
    "\t2.\tЛимиты запросов:\n",
    "Некоторые API ограничивают число запросов в минуту или час. Проверяйте лимиты в документации.\n",
    "\t3.\tКэширование:\n",
    "Для часто повторяющихся запросов используйте кэширование (например, с помощью библиотеки requests_cache)."
   ],
   "id": "3d383053b1522200"
  }
 ],
 "metadata": {},
 "nbformat": 4,
 "nbformat_minor": 5
}
