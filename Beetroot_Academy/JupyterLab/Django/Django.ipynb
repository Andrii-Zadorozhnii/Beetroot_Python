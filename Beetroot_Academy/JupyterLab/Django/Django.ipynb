{
 "cells": [
  {
   "metadata": {},
   "cell_type": "markdown",
   "source": [
    "Django\n",
    "\n",
    "Таблица культовых файлов Django\n",
    "\n",
    "manage.py - запускает сервер, организует все процессы\n",
    "\n",
    "setting.py - хранит все пароли, настройки, знает где что лежит\n",
    "\n",
    "urls.py - направляет http запросы в нужным view-функциям\n",
    "\n",
    "models.py - код для связи с базой данных\n",
    "\n",
    "view.py - связующее звено с templates и models (данные и запросы). Принимает http запросы и отправляет http ответы\n"
   ],
   "id": "4c745b4f415a35c"
  },
  {
   "metadata": {},
   "cell_type": "markdown",
   "source": "Чтобы создать новый проект вводит в терминал:",
   "id": "a7ff83b5568a3965"
  },
  {
   "metadata": {},
   "cell_type": "code",
   "outputs": [],
   "execution_count": null,
   "source": [
    "django - admin\n",
    "startproject\n",
    "projectname"
   ],
   "id": "d73d4e58ed8ddbde"
  },
  {
   "metadata": {},
   "cell_type": "markdown",
   "source": "Нужно перейти в папку с проктом",
   "id": "2cfda547ae851a63"
  },
  {
   "metadata": {},
   "cell_type": "code",
   "outputs": [],
   "execution_count": null,
   "source": [
    "cd\n",
    "projectname"
   ],
   "id": "ea16af6478e414a3"
  },
  {
   "metadata": {},
   "cell_type": "markdown",
   "source": [
    "проверка нахождения в папке командой ls\n",
    "\n",
    "пометим нашу папку с проктом как sourses route (правой кнопкой на папке, в самом низу \"Mark directory as\" -> 'Sources root' "
   ],
   "id": "4066998cda3c3526"
  },
  {
   "metadata": {},
   "cell_type": "markdown",
   "source": "Запуск приложения происходит через команду:",
   "id": "2d690e827200a578"
  },
  {
   "metadata": {},
   "cell_type": "code",
   "outputs": [],
   "execution_count": null,
   "source": "./ manage.py runserver",
   "id": "92177754823254e7"
  },
  {
   "metadata": {},
   "cell_type": "markdown",
   "source": "остановить прокт можно нажатием плавиш ^c",
   "id": "c7687256189d7597"
  },
  {
   "metadata": {},
   "cell_type": "markdown",
   "source": [
    "Миграция в python \n",
    "\n",
    "Миграция производиться когда мы меняем что-то в структуре базы данных, добавляем или удаляем таблицы или поля. Миграция - это запись таких изменений в базу данных"
   ],
   "id": "204b22d3c700e443"
  },
  {
   "metadata": {},
   "cell_type": "code",
   "outputs": [],
   "execution_count": null,
   "source": "./ manage.py migrate",
   "id": "a63e19470d7c2aa1"
  },
  {
   "metadata": {},
   "cell_type": "markdown",
   "source": "Создадим Django applocation",
   "id": "35efdb691e4a95da"
  },
  {
   "metadata": {},
   "cell_type": "code",
   "outputs": [],
   "execution_count": null,
   "source": "./ manage.py startapp myapp1",
   "id": "6b66c99d58ef70f7"
  },
  {
   "metadata": {},
   "cell_type": "markdown",
   "source": "",
   "id": "40941a3c390b3a93"
  },
  {
   "metadata": {},
   "cell_type": "markdown",
   "source": "Зарегистрируем приложение в setting.py",
   "id": "4cb3ab668719dab5"
  },
  {
   "metadata": {},
   "cell_type": "code",
   "outputs": [],
   "execution_count": null,
   "source": [
    "settings.py - INSTALLED\n",
    "APPS"
   ],
   "id": "2ea6aef521d3b3a3"
  },
  {
   "metadata": {},
   "cell_type": "markdown",
   "source": "В папке с проктом открываем setting.py нужно добавить только что созданное придожение чтобы он с ним работал\n",
   "id": "1f3b9c2f57601d0b"
  },
  {
   "metadata": {},
   "cell_type": "markdown",
   "source": [
    "INSTALLED_APPS = [\n",
    "\n",
    "    'django.contrib.admin',\n",
    "    'django.contrib.auth',\n",
    "    'django.contrib.contenttypes',\n",
    "    'django.contrib.sessions',\n",
    "    'django.contrib.messages',\n",
    "    'django.contrib.staticfiles',\n",
    "    'myapp1'\n",
    "]"
   ],
   "id": "20800888a58d954"
  },
  {
   "metadata": {},
   "cell_type": "markdown",
   "source": "Создадим папку templates и в ней HTML страницу",
   "id": "7e6e61d4fadf0130"
  },
  {
   "metadata": {},
   "cell_type": "markdown",
   "source": "templates - index.html",
   "id": "a33ea58957183bed"
  },
  {
   "metadata": {},
   "cell_type": "markdown",
   "source": "Создаем папку templates в корневом файле проекта, а в нем уже index.html\n",
   "id": "cd4bab1be7ca3feb"
  },
  {
   "metadata": {},
   "cell_type": "markdown",
   "source": "Теперь нужно зарегистрировать папку templates в setting.py ",
   "id": "7d88d7d34b78a8bf"
  },
  {
   "metadata": {},
   "cell_type": "code",
   "outputs": [],
   "execution_count": null,
   "source": [
    "TEMPLATES = [\n",
    "    {\n",
    "\n",
    "        'BACKEND': 'django.template.backends.django.DjangoTemplates',\n",
    "        'DIRS': ['templates'],\n",
    "        'APP_DIRS': True,\n",
    "        'OPTIONS': {\n",
    "            'context_processors': [\n",
    "                'django.template.context_processors.debug',\n",
    "                'django.template.context_processors.request',\n",
    "                'django.contrib.auth.context_processors.auth',\n",
    "                'django.contrib.messages.context_processors.messages',\n",
    "\n",
    "            ],\n",
    "        },\n",
    "    },\n",
    "]"
   ],
   "id": "d06bd3396cdd6833"
  },
  {
   "metadata": {},
   "cell_type": "markdown",
   "source": "Напишем первую wiev-функцию в wiev.py",
   "id": "89b031e1164fabe2"
  },
  {
   "metadata": {},
   "cell_type": "code",
   "outputs": [],
   "execution_count": null,
   "source": [
    "from django.shortcuts import render\n",
    "\n",
    "\n",
    "def index_page(request):\n",
    "    return render(request, 'index.html')\n",
    "\n",
    "\n",
    "def about_page(request):\n",
    "    return render(request, 'about.html')"
   ],
   "id": "e5da190cfba41996"
  },
  {
   "metadata": {},
   "cell_type": "markdown",
   "source": [
    "В urls.py свяжем view-функцию и URL\n",
    "\n",
    "Идем в корневую папку проета и находим там urls.py\n",
    "\n",
    "Импортируем данные и вносим страницы в urlpatterns\n"
   ],
   "id": "fcb7451ab62dec21"
  },
  {
   "metadata": {},
   "cell_type": "code",
   "outputs": [],
   "execution_count": null,
   "source": [
    "from django.contrib import admin\n",
    "from django.urls import path\n",
    "from myapp1.views import index_page\n",
    "from myapp1.views import about_page\n",
    "\n",
    "urlpatterns = [\n",
    "    path('admin/', admin.site.urls),\n",
    "    path('', index_page),\n",
    "    path('about/', about_page)\n",
    "]"
   ],
   "id": "cad9dbb510e15591"
  },
  {
   "metadata": {},
   "cell_type": "markdown",
   "source": [
    "manage.py: Утилита командной строки, которая позволяет вам взаимодействовать с этим проектом Django различными способами. Вы можете прочитать все подробности manage.pyв django-admin и manage.py .\n",
    "\n",
    "mysite/: Каталог, который является фактическим пакетом Python для вашего проекта. Его имя — это имя пакета Python, которое вам нужно будет использовать для импорта чего-либо внутри него (например, mysite.urls).\n",
    "\n",
    "mysite/__init__.py: Пустой файл, который сообщает Python, что этот каталог следует считать пакетом Python. Если вы новичок в Python, прочитайте больше о пакетах в официальной документации Python.\n",
    "\n",
    "mysite/settings.py: Настройки/конфигурация для этого проекта Django. Настройки Django расскажут вам все о том, как работают настройки.\n",
    "\n",
    "mysite/urls.py: Объявления URL для этого проекта Django; «таблица содержания» вашего сайта на базе Django. Подробнее об URL можно прочитать в диспетчере URL .\n",
    "\n",
    "mysite/asgi.py: Точка входа для ASGI-совместимых веб-серверов для обслуживания вашего проекта. Подробнее см. в разделе Как развернуть с ASGI .\n",
    "\n",
    "mysite/wsgi.py: Точка входа для совместимых с WSGI веб-серверов для обслуживания вашего проекта. Подробнее см. в разделе Как развернуть с помощью WSGI ."
   ],
   "id": "c1cf754e769f2bd"
  }
 ],
 "metadata": {
  "kernelspec": {
   "display_name": "Python 3",
   "language": "python",
   "name": "python3"
  },
  "language_info": {
   "codemirror_mode": {
    "name": "ipython",
    "version": 2
   },
   "file_extension": ".py",
   "mimetype": "text/x-python",
   "name": "python",
   "nbconvert_exporter": "python",
   "pygments_lexer": "ipython2",
   "version": "2.7.6"
  }
 },
 "nbformat": 4,
 "nbformat_minor": 5
}
